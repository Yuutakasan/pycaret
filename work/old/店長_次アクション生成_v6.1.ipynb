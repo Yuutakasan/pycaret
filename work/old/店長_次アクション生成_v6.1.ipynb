{
 "cells": [
  {
   "cell_type": "markdown",
   "metadata": {},
   "source": [
    "# ✅ 店長のための次アクション生成 v6.1\n",
    "- 指定CSVの当日（データ最大日）に基づき、フラグ×カテゴリの上振れから実行ToDoを出力\n",
    "- 在庫・原価なし前提。面出し/フェース/前出し/時間帯強化にフォーカス"
   ]
  },
  {
   "cell_type": "code",
   "execution_count": null,
   "metadata": {},
   "outputs": [],
   "source": [
    "# 日本語フォント設定\n",
    "import font_setup\n"
   ]
  },
  {
   "cell_type": "code",
   "execution_count": null,
   "metadata": {},
   "outputs": [],
   "source": [
    "import warnings; warnings.filterwarnings('ignore')\n",
    "import pandas as pd, numpy as np\n",
    "from pathlib import Path\n",
    "import os\n",
    "try:\n",
    "    import ipywidgets as widgets; from IPython.display import display, clear_output\n",
    "    WIDGETS=True\n",
    "except Exception:\n",
    "    WIDGETS=False\n",
    "\n",
    "def pick_enriched_csv():\n",
    "    for env in ('DATA_PATH','ENRICHED_CSV'):\n",
    "        p=os.environ.get(env)\n",
    "        if p and Path(p).exists(): return Path(p)\n",
    "    out=Path('output')\n",
    "    if out.exists():\n",
    "        cand=sorted(out.glob('06_final_enriched_*.csv'), reverse=True)\n",
    "        if cand: return cand[0]\n",
    "    fixed=Path('output/06_final_enriched_20250701_20250930.csv')\n",
    "    if fixed.exists(): return fixed\n",
    "    return None\n",
    "\n",
    "DATA_PATH = pick_enriched_csv()\n",
    "if not DATA_PATH:\n",
    "    raise FileNotFoundError('06_final_enriched_*.csv が見つかりません。/home/rapids/work/output に配置、または環境変数 DATA_PATH を指定してください。')\n",
    "df = pd.read_csv(DATA_PATH, encoding='utf-8-sig')\n",
    "df = df.rename(columns={'店舗':'store_id','商品名':'sku_id','日付':'date','売上数量':'qty','売上金額':'sales_amt',\n",
    "    'フェイスくくり大分類':'category_l','フェイスくくり中分類':'category_m','フェイスくくり小分類':'category_s'})\n",
    "df['date'] = pd.to_datetime(df['date'])\n",
    "df['qty'] = pd.to_numeric(df['qty'], errors='coerce').fillna(0)\n",
    "df['sales_amt'] = pd.to_numeric(df['sales_amt'], errors='coerce').fillna(0)\n",
    "stores_all = sorted(df['store_id'].unique())\n",
    "stores_sel = stores_all[:1]\n",
    "if WIDGETS:\n",
    "    w = widgets.SelectMultiple(options=stores_all, value=tuple(stores_sel), description='店舗(複数)')\n",
    "    display(w)\n",
    "    stores_sel = list(w.value)\n",
    "today = df['date'].max()\n",
    "print('基準日:', today, '/ 対象店舗:', stores_sel)\n"
   ]
  },
  {
   "cell_type": "markdown",
   "metadata": {},
   "source": [
    "## 提案ロジック（カテゴリuplift × 条件フラグ）"
   ]
  },
  {
   "cell_type": "code",
   "execution_count": null,
   "metadata": {},
   "outputs": [],
   "source": [
    "flag_cols = [c for c in ['降雨フラグ','週末フラグ','猛暑日','真夏日','夏日','冬日','真冬日','給料日','給料日直後','月初3日','月末3日'] if c in df.columns]\n",
    "sub = df[(df['date']==today) & (df['store_id'].isin(stores_sel))][['store_id']+flag_cols].drop_duplicates() if flag_cols else pd.DataFrame()\n",
    "today_flags = {c:int(sub[c].max()) for c in flag_cols} if not sub.empty else {}\n",
    "print('今日のフラグ:', {k:v for k,v in today_flags.items() if v==1})\n",
    "\n",
    "def propose_by_flag(df_all, stores, flag_col, top_n=5):\n",
    "    if flag_col not in df_all.columns: return pd.DataFrame()\n",
    "    d = df_all[df_all['store_id'].isin(stores)].copy()\n",
    "    grp_cols = ['date','store_id','category_l'] if 'category_l' in d.columns else ['date','store_id']\n",
    "    base = d.groupby(grp_cols, as_index=False)['sales_amt'].sum()\n",
    "    flags = d[grp_cols+[flag_col]].drop_duplicates()\n",
    "    m = base.merge(flags, on=grp_cols, how='left')\n",
    "    if 'category_l' not in m.columns: return pd.DataFrame()\n",
    "    a = m[m[flag_col]==1].groupby('category_l', as_index=False)['sales_amt'].mean()\n",
    "    b = m[m[flag_col]!=1].groupby('category_l', as_index=False)['sales_amt'].mean()\n",
    "    if a.empty or b.empty: return pd.DataFrame()\n",
    "    u = a.merge(b, on='category_l', suffixes=('_flag1','_flag0'))\n",
    "    u['uplift'] = (u['sales_amt_flag1']-u['sales_amt_flag0'])/(u['sales_amt_flag0']+1e-6)\n",
    "    return u.sort_values('uplift', ascending=False).head(top_n)\n",
    "\n",
    "action_templates = {\n",
    "    '降雨フラグ': ['ホットスナック/温かい総菜のフェース増', '入口付近に温かい食品を前出し', '傘/雨具の見切り品前出し(あれば)'],\n",
    "    '週末フラグ': ['弁当/麺/デザートのフェース増', 'ピーク前(11時/17時)の前出し強化', 'レジ前クロスMD'],\n",
    "    '猛暑日': ['冷飲料/アイスのフェース増', 'チルドデザートの前出し', '氷/保冷品(あれば)の導線強化'],\n",
    "    '真夏日': ['冷飲料のフェース増', '麺(冷)の前出し'],\n",
    "    '夏日': ['冷飲料/サラダの前出し'],\n",
    "    '冬日': ['温かい総菜/カップ麺のフェース増'],\n",
    "    '真冬日': ['ホット飲料/中華まん(あれば)の前出し'],\n",
    "    '給料日': ['高単価弁当/スイーツ前出し', '夕方の陳列厚め'],\n",
    "    '給料日直後': ['嗜好品/デザートフェース増', 'クロスMD強化'],\n",
    "    '月初3日': ['主力定番の在庫面確保', '発注厚め(在庫運用があれば)'],\n",
    "    '月末3日': ['値頃品・節約訴求の前出し']\n",
    "}\n",
    "\n",
    "plans = []\n",
    "for f,val in today_flags.items():\n",
    "    if val!=1: continue\n",
    "    u = propose_by_flag(df, stores_sel, f, 5)\n",
    "    cats = list(u['category_l'].head(3)) if not u.empty else []\n",
    "    plans.append({'flag': f, 'top_categories': cats, 'actions': action_templates.get(f, [])})\n",
    "\n",
    "plans_df = pd.DataFrame(plans) if plans else pd.DataFrame(columns=['flag','top_categories','actions'])\n",
    "display(plans_df)\n",
    "if not plans_df.empty:\n",
    "    print('\n--- 実行ToDo(例) ---')\n",
    "    for _,p in plans_df.iterrows():\n",
    "        cats = ' / '.join(p['top_categories']) if p['top_categories'] else '主要カテゴリ'\n",
    "        print(f\"[条件: {p['flag']}] {cats}\")\n",
    "        for a in p['actions']:\n",
    "            print('  -', a)\n",
    "    print('\nタイムライン例:')\n",
    "    print('  開店前   : 前出し/フェース増（上記カテゴリ）')\n",
    "    print('  昼ピーク前: 11時前の補充/前出し強化')\n",
    "    print('  夕ピーク前: 17時前の補充/前出し強化')\n",
    "    print('  閉店前   : 見切り/値頃訴求（在庫連動は未実装）')\n",
    "else:\n",
    "    print('今日の条件フラグが無い、または検出できません。標準運用を実施してください。')\n"
   ]
  }
 ],
 "metadata": {
  "kernelspec": {
   "display_name": "Python 3",
   "language": "python",
   "name": "python3"
  },
  "language_info": {
   "name": "python",
   "version": "3.x"
  }
 },
 "nbformat": 4,
 "nbformat_minor": 5
}