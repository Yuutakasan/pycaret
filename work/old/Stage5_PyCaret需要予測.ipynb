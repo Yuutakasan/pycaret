{
 "cells": [
  {
   "cell_type": "markdown",
   "metadata": {},
   "source": [
    "# 🤖 Stage 5: PyCaret需要予測モデル構築\n",
    "\n",
    "## 目的\n",
    "**機械学習で売上を予測し、精度の高い発注を実現する**\n",
    "\n",
    "このノートブックでは、PyCaretを使って需要予測モデルを構築します。\n",
    "\n",
    "### PyCaretとは？\n",
    "**ローコードで機械学習モデルを構築できるPythonライブラリ**\n",
    "- 複数のアルゴリズムを自動で比較\n",
    "- 最適なモデルを自動で選択\n",
    "- ハイパーパラメータの自動調整\n",
    "- 少ないコードで高度な予測が可能\n",
    "\n",
    "### 分析内容\n",
    "1. **データ準備**\n",
    "   - 特徴量エンジニアリング\n",
    "   - 訓練データ・テストデータの分割\n",
    "\n",
    "2. **モデル構築（回帰問題）**\n",
    "   - PyCaretで複数モデルを自動比較\n",
    "   - 最適モデルの選択\n",
    "   - モデルのチューニング\n",
    "\n",
    "3. **モデル評価**\n",
    "   - 予測精度の確認\n",
    "   - 特徴量の重要度分析\n",
    "   - エラー分析\n",
    "\n",
    "4. **予測の実行**\n",
    "   - 未来の売上を予測\n",
    "   - 発注推奨量の算出\n",
    "\n",
    "### 業務的な意義\n",
    "- **発注担当**: 勘ではなく、AIによる科学的な予測で発注できる\n",
    "- **店長**: 欠品・廃棄を最小化し、利益を最大化できる\n",
    "- **オーナー**: データドリブンな経営判断が可能になる\n",
    "\n",
    "---\n",
    "\n",
    "## 📝 注意事項\n",
    "このノートブックは基本的なPyCaretの使い方を示すものです。\n",
    "実際の需要予測システムは「動的売上予測システム - PyCaret 3.ipynb」で構築します。\n",
    "\n",
    "---"
   ]
  },
  {
   "cell_type": "markdown",
   "metadata": {},
   "source": [
    "## 📦 1. 環境準備"
   ]
  },
  {
   "cell_type": "code",
   "execution_count": null,
   "id": "6d31e9be",
   "metadata": {},
   "outputs": [],
   "source": [
    "# 日本語フォント設定（共通モジュール）\n",
    "import warnings\n",
    "warnings.filterwarnings('ignore')\n",
    "\n",
    "# よく使うライブラリを先に読み込む\n",
    "import pandas as pd\n",
    "import numpy as np\n",
    "import matplotlib.pyplot as plt\n",
    "import seaborn as sns\n",
    "import plotly.express as px\n",
    "import plotly.graph_objects as go\n",
    "from plotly.subplots import make_subplots\n",
    "\n",
    "# ウィジェットの有無を通知・フラグ化\n",
    "try:\n",
    "    import ipywidgets as widgets\n",
    "    from IPython.display import display, HTML, clear_output\n",
    "    WIDGETS_AVAILABLE = True\n",
    "    print('✅ ipywidgets利用可能')\n",
    "except Exception:\n",
    "    WIDGETS_AVAILABLE = False\n",
    "    print('⚠️ ipywidgets未インストール - 一部機能制限')\n",
    "\n",
    "import font_setup\n",
    "JP_FP = font_setup.setup_fonts(show_test=False)\n"
   ]
  },
  {
   "cell_type": "code",
   "execution_count": 2,
   "metadata": {
    "execution": {
     "iopub.execute_input": "2025-10-08T08:00:39.599185Z",
     "iopub.status.busy": "2025-10-08T08:00:39.598786Z",
     "iopub.status.idle": "2025-10-08T08:00:42.119718Z",
     "shell.execute_reply": "2025-10-08T08:00:42.118752Z",
     "shell.execute_reply.started": "2025-10-08T08:00:39.599169Z"
    }
   },
   "outputs": [
    {
     "name": "stdout",
     "output_type": "stream",
     "text": [
      "✅ PyCaret回帰モジュールをインポートしました\n"
     ]
    }
   ],
   "source": [
    "import pandas as pd\n",
    "from datetime import datetime, timedelta\n",
    "\n",
    "import numpy as np\n",
    "import matplotlib.pyplot as plt\n",
    "import seaborn as sns\n",
    "from pathlib import Path\n",
    "\n",
    "# PyCaretのインポート\n",
    "from pycaret.regression import *\n",
    "from sklearn.metrics import mean_absolute_error, mean_squared_error, r2_score\n",
    "\n",
    "print(\"✅ PyCaret回帰モジュールをインポートしました\")"
   ]
  },
  {
   "cell_type": "markdown",
   "metadata": {},
   "source": [
    "## 📁 2. データ読み込み"
   ]
  },
  {
   "cell_type": "code",
   "execution_count": 3,
   "metadata": {
    "execution": {
     "iopub.execute_input": "2025-10-08T08:00:42.121102Z",
     "iopub.status.busy": "2025-10-08T08:00:42.120602Z",
     "iopub.status.idle": "2025-10-08T08:00:45.551874Z",
     "shell.execute_reply": "2025-10-08T08:00:45.550993Z",
     "shell.execute_reply.started": "2025-10-08T08:00:42.121075Z"
    }
   },
   "outputs": [
    {
     "name": "stdout",
     "output_type": "stream",
     "text": [
      "📂 データ読み込み中: output/06_final_enriched_20250701_20250930.csv\n",
      "\n",
      "✅ 読み込み完了\n",
      "   データ期間: 2025-07-01 〜 2025-09-30\n",
      "   データ件数: 83,789行\n",
      "   特徴量数: 132列\n"
     ]
    }
   ],
   "source": [
    "file_path = 'output/06_final_enriched_20250701_20250930.csv'\n",
    "\n",
    "print(f\"📂 データ読み込み中: {file_path}\")\n",
    "df = pd.read_csv(file_path, encoding='utf-8-sig', low_memory=False)\n",
    "df['日付'] = pd.to_datetime(df['日付'])\n",
    "\n",
    "print(f\"\\n✅ 読み込み完了\")\n",
    "print(f\"   データ期間: {df['日付'].min().strftime('%Y-%m-%d')} 〜 {df['日付'].max().strftime('%Y-%m-%d')}\")\n",
    "print(f\"   データ件数: {len(df):,}行\")\n",
    "print(f\"   特徴量数: {len(df.columns)}列\")"
   ]
  },
  {
   "cell_type": "markdown",
   "metadata": {},
   "source": [
    "## 🎯 3. 予測対象の選定\n",
    "\n",
    "### 業務的な方針\n",
    "全商品を一度に予測するのは計算コストが高いため、重要な商品（Aランク）に絞って予測する"
   ]
  },
  {
   "cell_type": "code",
   "execution_count": 4,
   "metadata": {
    "execution": {
     "iopub.execute_input": "2025-10-08T08:00:45.552916Z",
     "iopub.status.busy": "2025-10-08T08:00:45.552714Z",
     "iopub.status.idle": "2025-10-08T08:00:45.567441Z",
     "shell.execute_reply": "2025-10-08T08:00:45.566574Z",
     "shell.execute_reply.started": "2025-10-08T08:00:45.552900Z"
    }
   },
   "outputs": [
    {
     "name": "stdout",
     "output_type": "stream",
     "text": [
      "============================================================\n",
      "🎯 予測対象商品（売上上位10商品）\n",
      "============================================================\n",
      "  1. レジ袋: 12,785個\n",
      "  2. ◎ジャスミン茶６００: 10,729個\n",
      "  3. い・ろ・は・す５４０: 10,093個\n",
      "  4. ◎緑茶６００: 9,270個\n",
      "  5. ◎天然水新潟県津南６００: 7,227個\n",
      "  6. 直巻　焼しゃけ: 6,468個\n",
      "  7. 直巻　和風ツナマヨネーズ: 6,360個\n",
      "  8. 手巻シーチキンマヨネーズ: 5,338個\n",
      "  9. レジ袋１２号バイオマス: 5,249個\n",
      "  10. サントリー天然水　５５０: 4,984個\n",
      "\n",
      "💡 実務では、Aランク商品全てを対象にします\n"
     ]
    }
   ],
   "source": [
    "# 商品別売上集計\n",
    "product_sales = df.groupby('商品名')['売上数量'].sum().sort_values(ascending=False)\n",
    "\n",
    "# 上位10商品を選択（デモ用）\n",
    "top_products = product_sales.head(10).index.tolist()\n",
    "\n",
    "print(\"=\"*60)\n",
    "print(\"🎯 予測対象商品（売上上位10商品）\")\n",
    "print(\"=\"*60)\n",
    "for i, product in enumerate(top_products, 1):\n",
    "    sales = product_sales[product]\n",
    "    print(f\"  {i}. {product}: {sales:,.0f}個\")\n",
    "\n",
    "print(\"\\n💡 実務では、Aランク商品全てを対象にします\")"
   ]
  },
  {
   "cell_type": "markdown",
   "metadata": {},
   "source": [
    "## 🔧 4. データ準備（1商品のデモ）\n",
    "\n",
    "### 業務的な方針\n",
    "まず1商品でモデルを構築し、うまくいったら全商品に展開する"
   ]
  },
  {
   "cell_type": "code",
   "execution_count": 5,
   "metadata": {
    "execution": {
     "iopub.execute_input": "2025-10-08T08:00:45.568666Z",
     "iopub.status.busy": "2025-10-08T08:00:45.568450Z",
     "iopub.status.idle": "2025-10-08T08:00:45.582000Z",
     "shell.execute_reply": "2025-10-08T08:00:45.581138Z",
     "shell.execute_reply.started": "2025-10-08T08:00:45.568650Z"
    }
   },
   "outputs": [
    {
     "name": "stdout",
     "output_type": "stream",
     "text": [
      "📊 デモ商品: レジ袋\n",
      "\n",
      "データ件数: 276行\n",
      "期間: 2025-07-01 〜 2025-09-30\n"
     ]
    }
   ],
   "source": [
    "# デモ商品を選択（売上1位の商品）\n",
    "demo_product = top_products[0]\n",
    "\n",
    "print(f\"📊 デモ商品: {demo_product}\")\n",
    "\n",
    "# その商品のデータを抽出\n",
    "df_product = df[df['商品名'] == demo_product].copy()\n",
    "\n",
    "# 日付でソート\n",
    "df_product = df_product.sort_values('日付').reset_index(drop=True)\n",
    "\n",
    "print(f\"\\nデータ件数: {len(df_product):,}行\")\n",
    "print(f\"期間: {df_product['日付'].min().strftime('%Y-%m-%d')} 〜 {df_product['日付'].max().strftime('%Y-%m-%d')}\")"
   ]
  },
  {
   "cell_type": "markdown",
   "metadata": {},
   "source": [
    "## 📊 5. 特徴量の選択\n",
    "\n",
    "### 業務的な方針\n",
    "予測に有用な特徴量のみを選択し、ノイズを減らす"
   ]
  },
  {
   "cell_type": "code",
   "execution_count": 6,
   "metadata": {
    "execution": {
     "iopub.execute_input": "2025-10-08T08:00:45.582819Z",
     "iopub.status.busy": "2025-10-08T08:00:45.582662Z",
     "iopub.status.idle": "2025-10-08T08:00:45.589457Z",
     "shell.execute_reply": "2025-10-08T08:00:45.588632Z",
     "shell.execute_reply.started": "2025-10-08T08:00:45.582804Z"
    }
   },
   "outputs": [
    {
     "name": "stdout",
     "output_type": "stream",
     "text": [
      "============================================================\n",
      "📊 使用する特徴量\n",
      "============================================================\n",
      "\n",
      "特徴量数: 124個\n",
      "\n",
      "主な特徴量:\n",
      "  1. 売上金額\n",
      "  2. 年\n",
      "  3. 月\n",
      "  4. 日\n",
      "  5. 曜日\n",
      "  6. 週番号\n",
      "  7. 年内日数\n",
      "  8. 祝日フラグ\n",
      "  9. 土曜フラグ\n",
      "  10. 日曜フラグ\n",
      "  11. 週末フラグ\n",
      "  12. 平日フラグ\n",
      "  13. 休日フラグ\n",
      "  14. 休日タイプ\n",
      "  15. 休日前日\n",
      "  16. 休日翌日\n",
      "  17. 休日前々日\n",
      "  18. 連休日数\n",
      "  19. 連休中日番号\n",
      "  20. 連休フラグ\n",
      "  ... 他 104個\n",
      "\n",
      "目的変数: 売上数量\n"
     ]
    }
   ],
   "source": [
    "# 予測に使わない列（ID系・テキスト系）\n",
    "exclude_cols = ['日付', '商品名', '店舗', 'フェイスくくり大分類', 'フェイスくくり中分類', 'フェイスくくり小分類']\n",
    "\n",
    "# 目的変数\n",
    "target = '売上数量'\n",
    "\n",
    "# 特徴量（数値型のみ）\n",
    "feature_cols = [col for col in df_product.select_dtypes(include=[np.number]).columns \n",
    "                if col not in exclude_cols and col != target]\n",
    "\n",
    "print(\"=\"*60)\n",
    "print(\"📊 使用する特徴量\")\n",
    "print(\"=\"*60)\n",
    "print(f\"\\n特徴量数: {len(feature_cols)}個\")\n",
    "print(f\"\\n主な特徴量:\")\n",
    "for i, col in enumerate(feature_cols[:20], 1):\n",
    "    print(f\"  {i}. {col}\")\n",
    "\n",
    "if len(feature_cols) > 20:\n",
    "    print(f\"  ... 他 {len(feature_cols) - 20}個\")\n",
    "\n",
    "print(f\"\\n目的変数: {target}\")"
   ]
  },
  {
   "cell_type": "markdown",
   "metadata": {},
   "source": [
    "## 🔀 6. 訓練データ・テストデータの分割\n",
    "\n",
    "### 時系列データの分割方法\n",
    "時系列データでは、**過去のデータで訓練し、未来のデータでテストする**\n",
    "\n",
    "- 訓練データ: 最初の80%\n",
    "- テストデータ: 最後の20%"
   ]
  },
  {
   "cell_type": "code",
   "execution_count": 7,
   "metadata": {
    "execution": {
     "iopub.execute_input": "2025-10-08T08:00:45.592208Z",
     "iopub.status.busy": "2025-10-08T08:00:45.591716Z",
     "iopub.status.idle": "2025-10-08T08:00:45.599865Z",
     "shell.execute_reply": "2025-10-08T08:00:45.599118Z",
     "shell.execute_reply.started": "2025-10-08T08:00:45.592190Z"
    }
   },
   "outputs": [
    {
     "name": "stdout",
     "output_type": "stream",
     "text": [
      "============================================================\n",
      "🔀 データ分割\n",
      "============================================================\n",
      "\n",
      "訓練データ: 220行\n",
      "  期間: 2025-07-01 〜 2025-09-12\n",
      "\n",
      "テストデータ: 56行\n",
      "  期間: 2025-09-12 〜 2025-09-30\n",
      "\n",
      "💡 訓練データで学習 → テストデータで精度を検証\n"
     ]
    }
   ],
   "source": [
    "# 訓練データとテストデータの分割点\n",
    "split_point = int(len(df_product) * 0.8)\n",
    "\n",
    "train_data = df_product.iloc[:split_point].copy()\n",
    "test_data = df_product.iloc[split_point:].copy()\n",
    "\n",
    "print(\"=\"*60)\n",
    "print(\"🔀 データ分割\")\n",
    "print(\"=\"*60)\n",
    "print(f\"\\n訓練データ: {len(train_data):,}行\")\n",
    "print(f\"  期間: {train_data['日付'].min().strftime('%Y-%m-%d')} 〜 {train_data['日付'].max().strftime('%Y-%m-%d')}\")\n",
    "\n",
    "print(f\"\\nテストデータ: {len(test_data):,}行\")\n",
    "print(f\"  期間: {test_data['日付'].min().strftime('%Y-%m-%d')} 〜 {test_data['日付'].max().strftime('%Y-%m-%d')}\")\n",
    "\n",
    "print(\"\\n💡 訓練データで学習 → テストデータで精度を検証\")"
   ]
  },
  {
   "cell_type": "markdown",
   "metadata": {},
   "source": [
    "## 🤖 7. PyCaretセットアップ\n",
    "\n",
    "### 業務的な意義\n",
    "PyCaretが自動でデータの前処理・特徴量エンジニアリングを行う"
   ]
  },
  {
   "cell_type": "code",
   "execution_count": 8,
   "metadata": {
    "execution": {
     "iopub.execute_input": "2025-10-08T08:00:45.601313Z",
     "iopub.status.busy": "2025-10-08T08:00:45.600822Z",
     "iopub.status.idle": "2025-10-08T08:00:49.173807Z",
     "shell.execute_reply": "2025-10-08T08:00:49.172868Z",
     "shell.execute_reply.started": "2025-10-08T08:00:45.601291Z"
    }
   },
   "outputs": [
    {
     "name": "stdout",
     "output_type": "stream",
     "text": [
      "============================================================\n",
      "🤖 PyCaretセットアップ中...\n",
      "============================================================\n",
      "\n",
      "※ この処理には数分かかる場合があります\n",
      "\n",
      "訓練データ（前処理後）: 200行\n",
      "\n",
      "✅ PyCaretセットアップ完了\n"
     ]
    }
   ],
   "source": [
    "print(\"=\"*60)\n",
    "print(\"🤖 PyCaretセットアップ中...\")\n",
    "print(\"=\"*60)\n",
    "print(\"\\n※ この処理には数分かかる場合があります\")\n",
    "\n",
    "# PyCaretのセットアップ\n",
    "try:\n",
    "    # 特徴量と目的変数を含むデータフレームを作成\n",
    "    train_features = train_data[feature_cols + [target]].copy()\n",
    "    \n",
    "    # 欠損値を除去\n",
    "    train_features = train_features.dropna()\n",
    "    \n",
    "    print(f\"\\n訓練データ（前処理後）: {len(train_features):,}行\")\n",
    "    \n",
    "    # PyCaretセットアップ\n",
    "    reg = setup(\n",
    "        data=train_features,\n",
    "        target=target,\n",
    "        session_id=123,  # 再現性のため\n",
    "        verbose=False,   # 詳細ログを抑制\n",
    "             # 警告を抑制\n",
    "        html=False       # HTML出力を無効化\n",
    "    )\n",
    "    \n",
    "    print(\"\\n✅ PyCaretセットアップ完了\")\n",
    "    \n",
    "except Exception as e:\n",
    "    print(f\"\\n❌ エラー: {e}\")\n",
    "    print(\"\\n💡 PyCaretがインストールされていない可能性があります\")\n",
    "    print(\"   インストール: pip install pycaret\")"
   ]
  },
  {
   "cell_type": "markdown",
   "metadata": {},
   "source": [
    "## 🏆 8. モデルの比較・選択\n",
    "\n",
    "### 業務的な意義\n",
    "PyCaretが複数のアルゴリズムを自動で試し、最も精度の高いモデルを見つける"
   ]
  },
  {
   "cell_type": "code",
   "execution_count": null,
   "metadata": {
    "execution": {
     "iopub.execute_input": "2025-10-08T08:00:49.174941Z",
     "iopub.status.busy": "2025-10-08T08:00:49.174720Z"
    }
   },
   "outputs": [
    {
     "name": "stdout",
     "output_type": "stream",
     "text": [
      "============================================================\n",
      "🏆 モデル比較中...\n",
      "============================================================\n",
      "\n",
      "※ 複数のアルゴリズムを試すため、数分かかります\n"
     ]
    }
   ],
   "source": [
    "print(\"=\"*60)\n",
    "print(\"🏆 モデル比較中...\")\n",
    "print(\"=\"*60)\n",
    "print(\"\\n※ 複数のアルゴリズムを試すため、数分かかります\")\n",
    "\n",
    "try:\n",
    "    # 複数モデルを比較（上位5つのみ表示）\n",
    "    best_models = compare_models(n_select=5, verbose=False)\n",
    "    \n",
    "    print(\"\\n✅ モデル比較完了\")\n",
    "    print(\"\\n上位5モデルが選択されました\")\n",
    "    \n",
    "    # 最良モデルを選択\n",
    "    best_model = best_models[0]\n",
    "    \n",
    "    print(f\"\\n🏆 最良モデル: {best_model.__class__.__name__}\")\n",
    "    \n",
    "except Exception as e:\n",
    "    print(f\"\\n❌ エラー: {e}\")\n",
    "    print(\"\\n💡 PyCaretのセットアップが完了していない可能性があります\")"
   ]
  },
  {
   "cell_type": "markdown",
   "metadata": {},
   "source": [
    "## 🔧 9. モデルのチューニング\n",
    "\n",
    "### 業務的な意義\n",
    "モデルのパラメータを自動調整し、さらに精度を向上させる"
   ]
  },
  {
   "cell_type": "code",
   "execution_count": null,
   "metadata": {},
   "outputs": [],
   "source": [
    "print(\"=\"*60)\n",
    "print(\"🔧 モデルチューニング中...\")\n",
    "print(\"=\"*60)\n",
    "print(\"\\n※ この処理には数分かかる場合があります\")\n",
    "\n",
    "try:\n",
    "    # モデルのチューニング\n",
    "    tuned_model = tune_model(best_model, verbose=False)\n",
    "    \n",
    "    print(\"\\n✅ チューニング完了\")\n",
    "    print(\"\\n最適化されたモデルが構築されました\")\n",
    "    \n",
    "except Exception as e:\n",
    "    print(f\"\\n❌ エラー: {e}\")\n",
    "    print(\"\\n💡 チューニングをスキップし、元のモデルを使用します\")\n",
    "    tuned_model = best_model"
   ]
  },
  {
   "cell_type": "markdown",
   "metadata": {},
   "source": [
    "## 📈 10. モデル評価\n",
    "\n",
    "### 業務的な意義\n",
    "予測精度を確認し、実務で使えるレベルか判断する"
   ]
  },
  {
   "cell_type": "code",
   "execution_count": null,
   "metadata": {},
   "outputs": [],
   "source": [
    "print(\"=\"*60)\n",
    "print(\"📈 モデル評価\")\n",
    "print(\"=\"*60)\n",
    "\n",
    "try:\n",
    "    # テストデータで予測\n",
    "    test_features = test_data[feature_cols].copy()\n",
    "    test_features = test_features.dropna()\n",
    "    \n",
    "    predictions = predict_model(tuned_model, data=test_features)\n",
    "    \n",
    "    # 実際の値と予測値を比較\n",
    "    actual = test_data.loc[predictions.index, target]\n",
    "    predicted = predictions['prediction_label']\n",
    "    \n",
    "    # 評価指標の計算\n",
    "    from sklearn.metrics import mean_absolute_error, mean_squared_error, r2_score\n",
    "    \n",
    "    mae = mean_absolute_error(actual, predicted)\n",
    "    rmse = np.sqrt(mean_squared_error(actual, predicted))\n",
    "    r2 = r2_score(actual, predicted)\n",
    "    \n",
    "    print(\"\\n【予測精度】\")\n",
    "    print(f\"  MAE (平均絶対誤差): {mae:.2f}個\")\n",
    "    print(f\"  RMSE (二乗平均平方根誤差): {rmse:.2f}個\")\n",
    "    print(f\"  R² (決定係数): {r2:.3f}\")\n",
    "    \n",
    "    print(\"\\n\" + \"-\"*60)\n",
    "    print(\"【指標の読み方】\")\n",
    "    print(f\"  MAE: 平均して{mae:.0f}個の誤差がある\")\n",
    "    print(f\"  R²: {r2*100:.1f}%の精度で予測できている（1.0が完璧）\")\n",
    "    \n",
    "    # 実測値 vs 予測値のグラフ\n",
    "    fig, ax = plt.subplots(figsize=(10, 6))\n",
    "    ax.scatter(actual, predicted, alpha=0.6, color='steelblue')\n",
    "    ax.plot([actual.min(), actual.max()], [actual.min(), actual.max()], 'r--', linewidth=2, label='完璧な予測')\n",
    "    ax.set_title(f'実測値 vs 予測値 (R²={r2:.3f}, fontproperties=JP_FP)', fontsize=14)\n",
    "    ax.set_xlabel('実測値（個）', fontsize=11, fontproperties=JP_FP)\n",
    "    ax.set_ylabel('予測値（個）', fontsize=11, fontproperties=JP_FP)\n",
    "    ax.legend(fontsize=11, prop=JP_FP)\n",
    "    ax.grid(True, alpha=0.3)\n",
    "    plt.tight_layout()\n",
    "    plt.show()\n",
    "    \n",
    "except Exception as e:\n",
    "    print(f\"\\n❌ エラー: {e}\")"
   ]
  },
  {
   "cell_type": "markdown",
   "metadata": {},
   "source": [
    "## 🎯 11. 特徴量重要度の分析\n",
    "\n",
    "### 業務的な意義\n",
    "どの要因が売上予測に最も影響しているか理解する"
   ]
  },
  {
   "cell_type": "code",
   "execution_count": null,
   "metadata": {},
   "outputs": [],
   "source": [
    "print(\"=\"*60)\n",
    "print(\"🎯 特徴量重要度分析\")\n",
    "print(\"=\"*60)\n",
    "\n",
    "try:\n",
    "    # 特徴量重要度のプロット\n",
    "    plot_model(tuned_model, plot='feature', save=False)\n",
    "    \n",
    "    print(\"\\n✅ 特徴量重要度を可視化しました\")\n",
    "    print(\"\\n💡 上位の特徴量が予測に最も影響しています\")\n",
    "    \n",
    "except Exception as e:\n",
    "    print(f\"\\n⚠️ 特徴量重要度のプロットができませんでした: {e}\")\n",
    "    print(\"\\n一部のモデルでは特徴量重要度が計算できない場合があります\")"
   ]
  },
  {
   "cell_type": "markdown",
   "metadata": {},
   "source": [
    "## 💾 12. モデルの保存\n",
    "\n",
    "### 業務的な意義\n",
    "構築したモデルを保存し、再利用できるようにする"
   ]
  },
  {
   "cell_type": "code",
   "execution_count": null,
   "metadata": {},
   "outputs": [],
   "source": [
    "# 出力ディレクトリ\n",
    "output_dir = Path('output/stage5_pycaret_models')\n",
    "output_dir.mkdir(parents=True, exist_ok=True)\n",
    "\n",
    "try:\n",
    "    # モデルの保存\n",
    "    model_path = output_dir / f'model_{demo_product.replace(\"/\", \"_\")[:50]}'\n",
    "    save_model(tuned_model, str(model_path))\n",
    "    \n",
    "    print(\"=\"*60)\n",
    "    print(\"💾 モデル保存\")\n",
    "    print(\"=\"*60)\n",
    "    print(f\"\\n✅ モデルを保存しました\")\n",
    "    print(f\"   保存先: {model_path}.pkl\")\n",
    "    \n",
    "    print(\"\\n💡 次回はこのモデルを読み込んで予測できます\")\n",
    "    print(\"   読み込み: load_model('{}')\".format(model_path))\n",
    "    \n",
    "except Exception as e:\n",
    "    print(f\"\\n❌ モデル保存エラー: {e}\")"
   ]
  },
  {
   "cell_type": "markdown",
   "metadata": {},
   "source": [
    "## 🚀 13. 未来の予測（デモ）\n",
    "\n",
    "### 業務的な意義\n",
    "構築したモデルで明日・明後日の需要を予測し、発注量を決める"
   ]
  },
  {
   "cell_type": "code",
   "execution_count": null,
   "metadata": {},
   "outputs": [],
   "source": [
    "print(\"=\"*60)\n",
    "print(\"🚀 未来の需要予測（デモ）\")\n",
    "print(\"=\"*60)\n",
    "\n",
    "print(\"\\n※ 実際の予測システムは『動的売上予測システム - PyCaret 3.ipynb』で構築します\")\n",
    "print(\"\\nここでは、テストデータの最初の5日分を予測例として表示します\")\n",
    "\n",
    "try:\n",
    "    # テストデータの最初の5日分を予測\n",
    "    sample_test = test_data.head(5).copy()\n",
    "    sample_features = sample_test[feature_cols].dropna()\n",
    "    \n",
    "    # 予測実行\n",
    "    sample_predictions = predict_model(tuned_model, data=sample_features)\n",
    "    \n",
    "    # 結果の整形\n",
    "    result_df = pd.DataFrame({\n",
    "        '日付': sample_test.loc[sample_predictions.index, '日付'].dt.strftime('%Y-%m-%d'),\n",
    "        '実測値': sample_test.loc[sample_predictions.index, target].values,\n",
    "        '予測値': sample_predictions['prediction_label'].values,\n",
    "        '誤差': (sample_predictions['prediction_label'].values - \n",
    "                sample_test.loc[sample_predictions.index, target].values)\n",
    "    })\n",
    "    \n",
    "    result_df['誤差率(%)'] = (result_df['誤差'] / result_df['実測値'] * 100).round(1)\n",
    "    \n",
    "    print(\"\\n【予測結果サンプル】\")\n",
    "    print(result_df.to_string(index=False))\n",
    "    \n",
    "    print(\"\\n💡 実務での使い方\")\n",
    "    print(\"  1. 翌日の天気・カレンダー情報を取得\")\n",
    "    print(\"  2. モデルで翌日の需要を予測\")\n",
    "    print(\"  3. 予測値に基づいて発注量を決定\")\n",
    "    print(\"  4. 安全在庫を加えた最終発注量を算出\")\n",
    "    \n",
    "except Exception as e:\n",
    "    print(f\"\\n❌ 予測エラー: {e}\")"
   ]
  },
  {
   "cell_type": "markdown",
   "metadata": {},
   "source": [
    "## 💡 14. Stage 5 まとめ\n",
    "\n",
    "### PyCaretで実現できたこと\n",
    "1. **自動モデル選択**: 複数のアルゴリズムを自動比較\n",
    "2. **ハイパーパラメータ調整**: 最適なパラメータを自動探索\n",
    "3. **高精度な予測**: 機械学習で需要を予測\n",
    "4. **特徴量重要度**: どの要因が重要か理解\n",
    "5. **モデルの保存**: 再利用可能な予測システム\n",
    "\n",
    "### 実務での活用フロー\n",
    "```\n",
    "【日次の発注業務】\n",
    "1. 翌日の天気予報・カレンダー情報を確認\n",
    "2. PyCaretモデルで各商品の需要を予測\n",
    "3. 予測値 + 安全在庫 = 発注量\n",
    "4. 発注システムに入力\n",
    "5. 実績を記録し、モデルを定期的に再学習\n",
    "```\n",
    "\n",
    "### 次のステップ\n",
    "- **実運用システム**: 「動的売上予測システム - PyCaret 3.ipynb」で本格的な予測システムを構築\n",
    "- **全商品への展開**: Aランク商品全てに予測モデルを適用\n",
    "- **リアルタイム予測**: 日次で自動的に予測を更新\n",
    "- **統合ダッシュボード**: 予測結果を可視化し、意思決定を支援\n",
    "\n",
    "---\n",
    "\n",
    "## 📝 重要な注意事項\n",
    "このノートブックは基本的なPyCaretの使い方を示すデモです。\n",
    "\n",
    "**実際の需要予測システムは別途構築します:**\n",
    "- 「動的売上予測システム - PyCaret 3.ipynb」で詳細な予測システムを構築予定\n",
    "- 複数商品の一括予測\n",
    "- 時系列予測の高度なテクニック\n",
    "- リアルタイム予測の自動化\n",
    "\n",
    "---"
   ]
  }
 ],
 "metadata": {
  "kernelspec": {
   "display_name": "Python 3 (ipykernel)",
   "language": "python",
   "name": "python3"
  },
  "language_info": {
   "codemirror_mode": {
    "name": "ipython",
    "version": 3
   },
   "file_extension": ".py",
   "mimetype": "text/x-python",
   "name": "python",
   "nbconvert_exporter": "python",
   "pygments_lexer": "ipython3",
   "version": "3.11.13"
  }
 },
 "nbformat": 4,
 "nbformat_minor": 4
}
