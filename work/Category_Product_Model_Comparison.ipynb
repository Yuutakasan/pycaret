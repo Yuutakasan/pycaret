{
 "cells": [
  {
   "cell_type": "markdown",
   "metadata": {},
   "source": [
    "# 🤖 カテゴリ別代表商品のモデル比較分析\n",
    "\n",
    "各カテゴリから1商品を選び、どのモデルが最適な予測精度を出すか比較します。"
   ]
  },
  {
   "cell_type": "code",
   "execution_count": null,
   "metadata": {},
   "outputs": [],
   "source": [
    "# ライブラリインポート\n",
    "import pandas as pd\n",
    "import numpy as np\n",
    "import matplotlib.pyplot as plt\n",
    "import seaborn as sns\n",
    "from pathlib import Path\n",
    "from pycaret.regression import *\n",
    "import warnings\n",
    "warnings.filterwarnings('ignore')\n",
    "\n",
    "# 日本語フォント設定\n",
    "import matplotlib.font_manager as fm\n",
    "JP_FONT_PATH = \"/usr/share/fonts/opentype/noto/NotoSansCJK-Regular.ttc\"\n",
    "if Path(JP_FONT_PATH).exists():\n",
    "    JP_FP = fm.FontProperties(fname=JP_FONT_PATH)\n",
    "    plt.rcParams['font.family'] = JP_FP.get_name()\n",
    "else:\n",
    "    print(\"⚠️ 日本語フォントが見つかりません\")\n",
    "\n",
    "print(\"=\" * 80)\n",
    "print(\"📊 カテゴリ別代表商品のモデル比較分析\")\n",
    "print(\"=\" * 80)"
   ]
  },
  {
   "cell_type": "code",
   "execution_count": null,
   "metadata": {},
   "outputs": [],
   "source": [
    "# データ読み込み\n",
    "input_file = Path(\"output/06_final_enriched_20250701_20250930.csv\")\n",
    "print(f\"📁 データ読み込み中: {input_file}\")\n",
    "df = pd.read_csv(input_file)\n",
    "print(f\"✅ データ形状: {df.shape}\")\n",
    "print(f\"列数: {len(df.columns)}\")"
   ]
  },
  {
   "cell_type": "code",
   "execution_count": null,
   "metadata": {},
   "outputs": [],
   "source": "# カテゴリ・商品・売上列の自動検出\ncategory_candidates = [col for col in df.columns if any(x in col for x in ['カテゴリ', 'category', '分類', 'フェイスくくり'])]\nproduct_candidates = [col for col in df.columns if any(x in col for x in ['商品', 'product', '品名', '商品名', '商品コード'])]\nsales_candidates = [col for col in df.columns if any(x in col for x in ['売上', '金額', 'sales', 'amt'])]\nqty_candidates = [col for col in df.columns if any(x in col for x in ['数量', 'qty', 'quantity', '個数'])]\n\n# カテゴリ列の優先順位: 大分類 > 中分類 > 小分類 > カテゴリ\nif 'フェイスくくり大分類' in df.columns:\n    category_col = 'フェイスくくり大分類'\nelif 'フェイスくくり中分類' in df.columns:\n    category_col = 'フェイスくくり中分類'\nelif 'フェイスくくり小分類' in df.columns:\n    category_col = 'フェイスくくり小分類'\nelif 'カテゴリ' in df.columns:\n    category_col = 'カテゴリ'\nelse:\n    category_col = category_candidates[0] if category_candidates else None\n\n# 商品列の検出\nproduct_col = '商品名' if '商品名' in df.columns else ('商品' if '商品' in df.columns else (product_candidates[0] if product_candidates else None))\n\n# 売上列の検出（優先順位: 売上金額 > 売上数量 > その他）\nif '売上金額' in df.columns:\n    sales_col = '売上金額'\nelif sales_candidates:\n    sales_col = sales_candidates[0]\nelse:\n    sales_col = None\n\n# 数量列の検出\nif '売上数量' in df.columns:\n    qty_col = '売上数量'\nelif qty_candidates:\n    qty_col = qty_candidates[0]\nelse:\n    qty_col = None\n\n# 目的変数の選択（数量があれば数量、なければ売上金額）\ntarget_col = qty_col if qty_col else sales_col\n\nprint(f\"✅ カテゴリ列: {category_col}\")\nprint(f\"✅ 商品列: {product_col}\")\nprint(f\"✅ 売上列: {sales_col}\")\nprint(f\"✅ 数量列: {qty_col}\")\nprint(f\"\\n🎯 目的変数: {target_col}\")\nprint(f\"\\nユニークカテゴリ数: {df[category_col].nunique() if category_col else 0}\")"
  },
  {
   "cell_type": "code",
   "execution_count": null,
   "metadata": {},
   "outputs": [],
   "source": "# カテゴリ別の代表商品選定\nprint(\"📦 各カテゴリから代表商品を選定中...\")\n\n# 集約ディクショナリの構築\nagg_dict = {target_col: ['sum', 'mean', 'count']}\nif sales_col and sales_col != target_col:\n    agg_dict[sales_col] = 'sum'\n\n# グループ化と集約\ncategory_product_summary = df.groupby([category_col, product_col]).agg(agg_dict).reset_index()\n\n# MultiIndex列のフラット化\ncategory_product_summary.columns = ['_'.join(col).strip('_') if isinstance(col, tuple) else col\n                                    for col in category_product_summary.columns]\n\n# 列名の日本語化\nrename_dict = {\n    f'{target_col}_sum': '総数量',\n    f'{target_col}_mean': '平均数量',\n    f'{target_col}_count': 'データ数'\n}\n\nif sales_col and sales_col != target_col:\n    rename_dict[f'{sales_col}_sum'] = '総売上'\n    category_product_summary = category_product_summary.rename(columns=rename_dict)\nelse:\n    # 売上列がない場合は数量の合計を総売上として使用\n    category_product_summary['総売上'] = category_product_summary[f'{target_col}_sum']\n    category_product_summary = category_product_summary.rename(columns=rename_dict)\n\nrepresentative_products = []\n\nfor category in df[category_col].unique():\n    if pd.isna(category):\n        continue\n    \n    cat_products = category_product_summary[\n        category_product_summary[category_col] == category\n    ].copy()\n    \n    # データ数が30以上ある商品のみ対象\n    cat_products = cat_products[cat_products['データ数'] >= 30]\n    \n    if len(cat_products) == 0:\n        continue\n    \n    # 総売上が最大の商品を選定\n    best_product = cat_products.nlargest(1, '総売上').iloc[0]\n    \n    representative_products.append({\n        'カテゴリ': category,\n        '商品': best_product[product_col],\n        '総売上': best_product['総売上'],\n        '総数量': best_product['総数量'],\n        '平均数量': best_product['平均数量'],\n        'データ数': int(best_product['データ数'])\n    })\n\nrep_df = pd.DataFrame(representative_products)\nprint(f\"\\n✅ 代表商品選定完了: {len(rep_df)}カテゴリ\")\nrep_df[['カテゴリ', '商品', '総売上', 'データ数']]"
  },
  {
   "cell_type": "code",
   "execution_count": null,
   "metadata": {},
   "outputs": [],
   "source": [
    "# 特徴量の準備\n",
    "exclude_cols = [\n",
    "    target_col, '日付', 'date', category_col, product_col,\n",
    "    '店舗', '店舗名', '商品コード', '天気'\n",
    "]\n",
    "exclude_cols_actual = [col for col in exclude_cols if col in df.columns]\n",
    "\n",
    "print(f\"除外列: {exclude_cols_actual}\")"
   ]
  },
  {
   "cell_type": "code",
   "execution_count": null,
   "metadata": {},
   "outputs": [],
   "source": "# 各商品でPyCaretモデル比較\nprint(\"\\n🤖 各商品でPyCaretモデル比較を実行中...\")\n\nmodel_results = []\n\nfor idx, row in rep_df.iterrows():\n    category = row['カテゴリ']\n    product = row['商品']\n    \n    print(f\"\\n{'=' * 60}\")\n    print(f\"[{idx+1}/{len(rep_df)}] カテゴリ: {category} | 商品: {product}\")\n    print(f\"{'=' * 60}\")\n    \n    # 商品データ抽出\n    product_data = df[\n        (df[category_col] == category) &\n        (df[product_col] == product)\n    ].copy()\n    \n    print(f\"データ数: {len(product_data)}行\")\n    \n    if len(product_data) < 30:\n        print(f\"⚠️ データ数不足（{len(product_data)}行）スキップ\")\n        continue\n    \n    # 特徴量選択\n    feature_cols = [col for col in product_data.columns\n                   if col not in exclude_cols_actual\n                   and product_data[col].dtype in ['int64', 'float64']]\n    \n    # 欠損値が多い列を除外\n    feature_cols = [col for col in feature_cols\n                   if product_data[col].isna().sum() / len(product_data) < 0.3]\n    \n    print(f\"特徴量数: {len(feature_cols)}\")\n    \n    # 分析用データフレーム作成\n    analysis_data = product_data[feature_cols + [target_col]].copy()\n    analysis_data = analysis_data.fillna(analysis_data.median())\n    \n    try:\n        # PyCaretセットアップ（GPU無効化でLightGBMのCUDAエラー回避）\n        print(\"\\n🔧 PyCaretセットアップ中...\")\n        exp = setup(\n            data=analysis_data,\n            target=target_col,\n            session_id=123,\n            verbose=False,\n            html=False,\n            use_gpu=False,  # GPU無効化（LightGBMのCUDA Tree Learnerが無効なため）\n            n_jobs=-1,\n            log_experiment=False,\n            system_log=False\n        )\n        \n        # モデル比較\n        print(\"⚙️ モデル比較実行中...\")\n        best_models = compare_models(\n            n_select=5,\n            sort='RMSE',\n            verbose=False,\n            errors='ignore'\n        )\n        \n        # 結果取得\n        results_df_temp = pull()\n        \n        # TOP5モデルの結果保存\n        for i in range(min(5, len(results_df_temp))):\n            model_name = results_df_temp.index[i] if hasattr(results_df_temp.index[i], 'strip') else str(results_df_temp.index[i])\n            mae = results_df_temp.iloc[i]['MAE']\n            rmse = results_df_temp.iloc[i]['RMSE']\n            r2 = results_df_temp.iloc[i]['R2']\n            \n            model_results.append({\n                'カテゴリ': category,\n                '商品': product,\n                'データ数': len(product_data),\n                'ランク': i + 1,\n                'モデル': model_name,\n                'MAE': mae,\n                'RMSE': rmse,\n                'R2': r2\n            })\n        \n        print(f\"✅ 完了: TOP5モデル取得\")\n        \n    except Exception as e:\n        print(f\"❌ エラー: {str(e)[:100]}\")\n        continue\n\nresults_final = pd.DataFrame(model_results)\nprint(f\"\\n✅ 分析完了: {len(results_final)}件の結果\")\n\n# 結果が空の場合の処理\nif len(results_final) == 0:\n    print(\"\\n⚠️ モデル比較結果が得られませんでした。\")\n    print(\"   - データ数が不足している可能性があります（各商品30行以上必要）\")\n    print(\"   - 特徴量の数が不足している可能性があります\")\n    print(\"   - PyCaretのバージョンを確認してください（3.0以上推奨）\")"
  },
  {
   "cell_type": "code",
   "execution_count": null,
   "metadata": {},
   "outputs": [],
   "source": "# 各商品のベストモデル抽出\nif len(results_final) > 0 and 'ランク' in results_final.columns:\n    best_models_per_product = results_final[results_final['ランク'] == 1].copy()\n\n    print(\"\\n🏆 各商品のベストモデル:\")\n    display(best_models_per_product[['カテゴリ', '商品', 'モデル', 'RMSE', 'R2']])\nelse:\n    print(\"\\n⚠️ モデル比較結果が空のため、ベストモデル抽出をスキップします\")\n    best_models_per_product = pd.DataFrame()"
  },
  {
   "cell_type": "code",
   "execution_count": null,
   "metadata": {},
   "outputs": [],
   "source": "# モデル別の採用数集計\nif len(best_models_per_product) > 0 and 'モデル' in best_models_per_product.columns:\n    model_counts = best_models_per_product['モデル'].value_counts()\n    print(\"\\n📈 ベストモデル採用回数:\")\n    display(model_counts)\nelse:\n    print(\"\\n⚠️ ベストモデルデータが空のため、採用数集計をスキップします\")\n    model_counts = pd.Series(dtype=int)"
  },
  {
   "cell_type": "code",
   "execution_count": null,
   "metadata": {},
   "outputs": [],
   "source": "# 可視化1: モデル採用回数の円グラフ & RMSE比較\nif len(best_models_per_product) > 0 and len(model_counts) > 0:\n    fig, axes = plt.subplots(1, 2, figsize=(16, 6))\n\n    # 円グラフ\n    axes[0].pie(model_counts.values, labels=model_counts.index, autopct='%1.1f%%',\n                textprops={'fontproperties': JP_FP})\n    axes[0].set_title('ベストモデル採用率', fontproperties=JP_FP, fontsize=14)\n\n    # RMSE比較\n    best_models_sorted = best_models_per_product.sort_values('RMSE')\n    x = range(len(best_models_sorted))\n\n    axes[1].barh(x, best_models_sorted['RMSE'], color='steelblue', alpha=0.7)\n    axes[1].set_yticks(x)\n    axes[1].set_yticklabels([f\"{row['カテゴリ'][:10]}\\n({row['モデル'][:10]})\"\n                             for _, row in best_models_sorted.iterrows()],\n                            fontproperties=JP_FP, fontsize=8)\n    axes[1].set_xlabel('RMSE', fontproperties=JP_FP)\n    axes[1].set_title('カテゴリ別 ベストモデルのRMSE', fontproperties=JP_FP, fontsize=14)\n    axes[1].grid(axis='x', alpha=0.3)\n\n    plt.tight_layout()\n    plt.savefig('output/category_product_best_models.png', dpi=300, bbox_inches='tight')\n    plt.show()\nelse:\n    print(\"\\n⚠️ データが不足しているため、可視化をスキップします\")"
  },
  {
   "cell_type": "code",
   "execution_count": null,
   "metadata": {},
   "outputs": [],
   "source": "# 可視化2: モデル×カテゴリ別 RMSEヒートマップ\nif len(results_final) > 0 and 'モデル' in results_final.columns and 'カテゴリ' in results_final.columns:\n    pivot_rmse = results_final.pivot_table(\n        index='モデル',\n        columns='カテゴリ',\n        values='RMSE',\n        aggfunc='mean'\n    )\n\n    if not pivot_rmse.empty:\n        fig, ax = plt.subplots(figsize=(14, 8))\n        sns.heatmap(pivot_rmse, annot=True, fmt='.1f', cmap='RdYlGn_r',\n                    cbar_kws={'label': 'RMSE'}, ax=ax)\n        ax.set_title('モデル×カテゴリ別 RMSE比較', fontproperties=JP_FP, fontsize=14)\n        ax.set_xlabel('カテゴリ', fontproperties=JP_FP)\n        ax.set_ylabel('モデル', fontproperties=JP_FP)\n\n        plt.tight_layout()\n        plt.savefig('output/model_category_rmse_heatmap.png', dpi=300, bbox_inches='tight')\n        plt.show()\n    else:\n        print(\"\\n⚠️ ピボットテーブルが空のため、ヒートマップをスキップします\")\nelse:\n    print(\"\\n⚠️ データが不足しているため、ヒートマップをスキップします\")"
  },
  {
   "cell_type": "code",
   "execution_count": null,
   "metadata": {},
   "outputs": [],
   "source": "# 結果保存\nif len(results_final) > 0:\n    results_final.to_csv('output/category_product_model_comparison.csv', index=False, encoding='utf-8-sig')\n    print(\"✅ 全モデル比較結果をCSV保存しました: output/category_product_model_comparison.csv\")\nelse:\n    print(\"⚠️ 結果が空のため、CSV保存をスキップします\")\n\nif len(best_models_per_product) > 0:\n    best_models_per_product.to_csv('output/category_best_models.csv', index=False, encoding='utf-8-sig')\n    print(\"✅ ベストモデルをCSV保存しました: output/category_best_models.csv\")\nelse:\n    print(\"⚠️ ベストモデルが空のため、CSV保存をスキップします\")"
  },
  {
   "cell_type": "code",
   "execution_count": null,
   "metadata": {},
   "outputs": [],
   "source": "# サマリーレポート\nprint(\"\\n\" + \"=\" * 80)\nprint(\"📊 分析サマリー\")\nprint(\"=\" * 80)\n\nprint(f\"\\n総カテゴリ数: {len(rep_df)}\")\nprint(f\"分析完了商品数: {len(best_models_per_product)}\")\n\nif len(results_final) > 0 and 'モデル' in results_final.columns:\n    print(f\"使用モデル数: {results_final['モデル'].nunique()}\")\nelse:\n    print(\"使用モデル数: 0\")\n\nif len(model_counts) > 0:\n    print(\"\\n🏆 最も採用されたモデル:\")\n    top_model = model_counts.index[0]\n    top_count = model_counts.values[0]\n    print(f\"  モデル: {top_model}\")\n    print(f\"  採用数: {top_count}商品 ({top_count/len(best_models_per_product)*100:.1f}%)\")\nelse:\n    print(\"\\n⚠️ モデル採用データなし\")\n\nif len(best_models_per_product) > 0:\n    print(\"\\n📉 最小RMSE:\")\n    best_rmse = best_models_per_product.nsmallest(1, 'RMSE').iloc[0]\n    print(f\"  カテゴリ: {best_rmse['カテゴリ']}\")\n    print(f\"  商品: {best_rmse['商品']}\")\n    print(f\"  モデル: {best_rmse['モデル']}\")\n    print(f\"  RMSE: {best_rmse['RMSE']:.2f}\")\n    print(f\"  R2: {best_rmse['R2']:.3f}\")\n\n    print(\"\\n💡 推奨アクション:\")\n    if len(model_counts) > 0:\n        print(f\"1. {model_counts.index[0]} は汎用性が高く、多くのカテゴリで最適\")\n    print(\"2. カテゴリごとに最適モデルを選択することで予測精度向上\")\n    print(\"3. RMSE上位カテゴリは特徴量追加やデータ蓄積が必要\")\nelse:\n    print(\"\\n⚠️ 分析結果が得られませんでした\")\n    print(\"   - PyCaretのsetup()パラメータを確認してください\")\n    print(\"   - データ数を確認してください（各商品30行以上必要）\")\n    print(\"   - GPU設定を確認してください（use_gpu=False で試してください）\")"
  }
 ],
 "metadata": {
  "kernelspec": {
   "display_name": "Python 3",
   "language": "python",
   "name": "python3"
  },
  "language_info": {
   "codemirror_mode": {
    "name": "ipython",
    "version": 3
   },
   "file_extension": ".py",
   "mimetype": "text/x-python",
   "name": "python",
   "nbconvert_exporter": "python",
   "pygments_lexer": "ipython3",
   "version": "3.11.0"
  }
 },
 "nbformat": 4,
 "nbformat_minor": 4
}