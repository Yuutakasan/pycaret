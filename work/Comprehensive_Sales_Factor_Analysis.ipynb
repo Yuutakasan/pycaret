{
 "cells": [
  {
   "cell_type": "markdown",
   "metadata": {},
   "source": [
    "# 📊 売上影響要因の網羅的分析\n",
    "\n",
    "全123個の特徴量の中から、売上に影響を与える要因を網羅的に分析します。\n",
    "\n",
    "## 分析内容\n",
    "\n",
    "1. **全特徴量の重要度分析** - Random Forestで特徴量重要度を算出\n",
    "2. **カテゴリ別重要特徴量TOP20** - カテゴリごとに異なる影響要因を特定\n",
    "3. **相関分析** - 売上との相関係数を計算\n",
    "4. **多重共線性チェック** - VIF（分散拡大係数）で冗長性を確認\n",
    "5. **SHAP値分析** - モデルの予測に対する各特徴量の貢献度を可視化"
   ]
  },
  {
   "cell_type": "code",
   "execution_count": null,
   "metadata": {},
   "outputs": [],
   "source": [
    "# ライブラリインポート\n",
    "import pandas as pd\n",
    "import numpy as np\n",
    "import matplotlib.pyplot as plt\n",
    "import seaborn as sns\n",
    "from pathlib import Path\n",
    "from sklearn.ensemble import RandomForestRegressor\n",
    "from sklearn.preprocessing import StandardScaler\n",
    "from scipy.stats import pearsonr, spearmanr\n",
    "from statsmodels.stats.outliers_influence import variance_inflation_factor\n",
    "import warnings\n",
    "warnings.filterwarnings('ignore')\n",
    "\n",
    "# 日本語フォント設定\n",
    "import matplotlib.font_manager as fm\n",
    "JP_FONT_PATH = \"/usr/share/fonts/opentype/noto/NotoSansCJK-Regular.ttc\"\n",
    "if Path(JP_FONT_PATH).exists():\n",
    "    JP_FP = fm.FontProperties(fname=JP_FONT_PATH)\n",
    "    plt.rcParams['font.family'] = JP_FP.get_name()\n",
    "else:\n",
    "    print(\"⚠️ 日本語フォントが見つかりません\")\n",
    "\n",
    "print(\"=\" * 80)\n",
    "print(\"📊 売上影響要因の網羅的分析\")\n",
    "print(\"=\" * 80)"
   ]
  },
  {
   "cell_type": "code",
   "execution_count": null,
   "metadata": {},
   "outputs": [],
   "source": [
    "# データ読み込み\n",
    "input_file = Path(\"output/06_final_enriched_20250701_20250930.csv\")\n",
    "print(f\"📁 データ読み込み中: {input_file}\")\n",
    "df = pd.read_csv(input_file)\n",
    "print(f\"✅ データ形状: {df.shape}\")\n",
    "print(f\"\\n最初の5行:\")\n",
    "df.head()"
   ]
  },
  {
   "cell_type": "code",
   "execution_count": null,
   "metadata": {},
   "outputs": [],
   "source": "# カテゴリ・売上列の自動検出\ncategory_candidates = [col for col in df.columns if any(x in col for x in ['カテゴリ', 'category', '分類', 'フェイスくくり'])]\nsales_candidates = [col for col in df.columns if any(x in col for x in ['売上', '金額', 'sales', 'amt'])]\nqty_candidates = [col for col in df.columns if any(x in col for x in ['数量', 'qty', 'quantity', '個数'])]\n\n# カテゴリ列の優先順位: 大分類 > 中分類 > 小分類 > カテゴリ\nif 'フェイスくくり大分類' in df.columns:\n    category_col = 'フェイスくくり大分類'\nelif 'フェイスくくり中分類' in df.columns:\n    category_col = 'フェイスくくり中分類'\nelif 'フェイスくくり小分類' in df.columns:\n    category_col = 'フェイスくくり小分類'\nelif 'カテゴリ' in df.columns:\n    category_col = 'カテゴリ'\nelse:\n    category_col = category_candidates[0] if category_candidates else None\n\n# 売上列の検出（優先順位: 売上金額 > その他）\nif '売上金額' in df.columns:\n    sales_col = '売上金額'\nelif sales_candidates:\n    sales_col = sales_candidates[0]\nelse:\n    sales_col = None\n\n# 数量列の検出\nif '売上数量' in df.columns:\n    qty_col = '売上数量'\nelif qty_candidates:\n    qty_col = qty_candidates[0]\nelse:\n    qty_col = None\n\n# 目的変数の選択（数量があれば数量、なければ売上金額）\ntarget_col = qty_col if qty_col else sales_col\n\nprint(f\"✅ カテゴリ列: {category_col}\")\nprint(f\"✅ 売上列: {sales_col}\")\nprint(f\"✅ 数量列: {qty_col}\")\nprint(f\"\\n🎯 目的変数: {target_col}\")\nprint(f\"\\nユニークカテゴリ数: {df[category_col].nunique() if category_col else 0}\")"
  },
  {
   "cell_type": "code",
   "execution_count": null,
   "metadata": {},
   "outputs": [],
   "source": "# 特徴量の準備\nexclude_cols = [\n    target_col, sales_col, qty_col, '日付', 'date', \n    category_col, '商品', '商品名', '商品コード', '店舗', '店舗名', '天気',\n    'フェイスくくり大分類', 'フェイスくくり中分類', 'フェイスくくり小分類'\n]\nexclude_cols_actual = [col for col in exclude_cols if col in df.columns]\n\n# 数値型の特徴量のみ抽出\nfeature_cols = [col for col in df.columns\n               if col not in exclude_cols_actual\n               and df[col].dtype in ['int64', 'float64', 'int32', 'float32']]\n\nprint(f\"\\n📊 特徴量情報:\")\nprint(f\"総特徴量数: {len(feature_cols)}\")\nprint(f\"除外列数: {len(exclude_cols_actual)}\")\nprint(f\"\\n特徴量一覧（最初の20個）:\")\nfor i, col in enumerate(feature_cols[:20], 1):\n    print(f\"  {i}. {col}\")\nif len(feature_cols) > 20:\n    print(f\"  ... (全{len(feature_cols)}個)\")"
  },
  {
   "cell_type": "markdown",
   "metadata": {},
   "source": [
    "## 1️⃣ 全体の特徴量重要度分析（Random Forest）"
   ]
  },
  {
   "cell_type": "code",
   "execution_count": null,
   "metadata": {},
   "outputs": [],
   "source": [
    "# データ準備\n",
    "X = df[feature_cols].copy()\n",
    "y = df[target_col].copy()\n",
    "\n",
    "# 欠損値処理\n",
    "X = X.fillna(X.median())\n",
    "y = y.fillna(y.median())\n",
    "\n",
    "print(f\"\\n特徴量マトリックス: {X.shape}\")\n",
    "print(f\"目的変数: {y.shape}\")\n",
    "\n",
    "# Random Forestで特徴量重要度を計算\n",
    "print(\"\\n🌲 Random Forest学習中...\")\n",
    "rf_model = RandomForestRegressor(\n",
    "    n_estimators=100,\n",
    "    max_depth=10,\n",
    "    random_state=123,\n",
    "    n_jobs=-1\n",
    ")\n",
    "rf_model.fit(X, y)\n",
    "\n",
    "# 特徴量重要度を取得\n",
    "feature_importance = pd.DataFrame({\n",
    "    '特徴量': feature_cols,\n",
    "    '重要度': rf_model.feature_importances_\n",
    "}).sort_values('重要度', ascending=False)\n",
    "\n",
    "print(\"\\n✅ 学習完了！\")\n",
    "print(f\"モデルスコア (R²): {rf_model.score(X, y):.4f}\")"
   ]
  },
  {
   "cell_type": "code",
   "execution_count": null,
   "metadata": {},
   "outputs": [],
   "source": [
    "# TOP30特徴量の表示\n",
    "print(\"\\n🏆 売上影響TOP30特徴量:\")\n",
    "top30 = feature_importance.head(30).copy()\n",
    "top30['重要度(%)'] = (top30['重要度'] * 100).round(2)\n",
    "top30[['特徴量', '重要度(%)']]"
   ]
  },
  {
   "cell_type": "code",
   "execution_count": null,
   "metadata": {},
   "outputs": [],
   "source": [
    "# TOP30特徴量の可視化\n",
    "fig, ax = plt.subplots(figsize=(12, 10))\n",
    "\n",
    "top30_plot = feature_importance.head(30).copy()\n",
    "colors = plt.cm.viridis(np.linspace(0, 1, len(top30_plot)))\n",
    "\n",
    "ax.barh(range(len(top30_plot)), top30_plot['重要度'], color=colors, alpha=0.8)\n",
    "ax.set_yticks(range(len(top30_plot)))\n",
    "ax.set_yticklabels(top30_plot['特徴量'], fontproperties=JP_FP, fontsize=10)\n",
    "ax.set_xlabel('重要度', fontproperties=JP_FP, fontsize=12)\n",
    "ax.set_title('売上影響TOP30特徴量（全カテゴリ）', fontproperties=JP_FP, fontsize=14, pad=20)\n",
    "ax.invert_yaxis()\n",
    "ax.grid(axis='x', alpha=0.3)\n",
    "\n",
    "# 値ラベル追加\n",
    "for i, (_, row) in enumerate(top30_plot.iterrows()):\n",
    "    ax.text(row['重要度'] + 0.001, i, f\"{row['重要度']:.4f}\", \n",
    "            va='center', fontsize=8, fontproperties=JP_FP)\n",
    "\n",
    "plt.tight_layout()\n",
    "plt.savefig('output/feature_importance_top30_overall.png', dpi=300, bbox_inches='tight')\n",
    "plt.show()"
   ]
  },
  {
   "cell_type": "markdown",
   "metadata": {},
   "source": [
    "## 2️⃣ カテゴリ別の重要特徴量分析"
   ]
  },
  {
   "cell_type": "code",
   "execution_count": null,
   "metadata": {},
   "outputs": [],
   "source": [
    "# カテゴリごとに特徴量重要度を計算\n",
    "print(\"📦 カテゴリ別の特徴量重要度を計算中...\")\n",
    "\n",
    "category_importance = {}\n",
    "categories = df[category_col].unique()\n",
    "\n",
    "for idx, category in enumerate(categories):\n",
    "    if pd.isna(category):\n",
    "        continue\n",
    "    \n",
    "    print(f\"\\n[{idx+1}/{len(categories)}] {category}\")\n",
    "    \n",
    "    cat_data = df[df[category_col] == category].copy()\n",
    "    \n",
    "    if len(cat_data) < 30:\n",
    "        print(f\"  ⚠️ データ数不足（{len(cat_data)}行）スキップ\")\n",
    "        continue\n",
    "    \n",
    "    X_cat = cat_data[feature_cols].fillna(cat_data[feature_cols].median())\n",
    "    y_cat = cat_data[target_col].fillna(cat_data[target_col].median())\n",
    "    \n",
    "    # Random Forest学習\n",
    "    rf_cat = RandomForestRegressor(\n",
    "        n_estimators=100,\n",
    "        max_depth=10,\n",
    "        random_state=123,\n",
    "        n_jobs=-1\n",
    "    )\n",
    "    rf_cat.fit(X_cat, y_cat)\n",
    "    \n",
    "    # 重要度保存\n",
    "    importance_df = pd.DataFrame({\n",
    "        '特徴量': feature_cols,\n",
    "        '重要度': rf_cat.feature_importances_\n",
    "    }).sort_values('重要度', ascending=False)\n",
    "    \n",
    "    category_importance[category] = importance_df\n",
    "    \n",
    "    print(f\"  ✅ R² = {rf_cat.score(X_cat, y_cat):.4f}\")\n",
    "    print(f\"  TOP3: {', '.join(importance_df.head(3)['特徴量'].values)}\")\n",
    "\n",
    "print(f\"\\n✅ 分析完了: {len(category_importance)}カテゴリ\")"
   ]
  },
  {
   "cell_type": "code",
   "execution_count": null,
   "metadata": {},
   "outputs": [],
   "source": [
    "# カテゴリ別TOP20特徴量の表示\n",
    "print(\"\\n📊 カテゴリ別 重要特徴量TOP5:\")\n",
    "\n",
    "for category, importance_df in list(category_importance.items())[:10]:  # 最初の10カテゴリ\n",
    "    print(f\"\\n【{category}】\")\n",
    "    top5 = importance_df.head(5)\n",
    "    for i, (_, row) in enumerate(top5.iterrows(), 1):\n",
    "        print(f\"  {i}. {row['特徴量']}: {row['重要度']:.4f}\")"
   ]
  },
  {
   "cell_type": "code",
   "execution_count": null,
   "metadata": {},
   "outputs": [],
   "source": [
    "# カテゴリ別TOP20特徴量のヒートマップ\n",
    "print(\"\\n🗺️ ヒートマップ作成中...\")\n",
    "\n",
    "# 全カテゴリのTOP20特徴量を集計\n",
    "all_top_features = set()\n",
    "for importance_df in category_importance.values():\n",
    "    all_top_features.update(importance_df.head(20)['特徴量'].values)\n",
    "\n",
    "# ヒートマップ用データ作成\n",
    "heatmap_data = pd.DataFrame()\n",
    "\n",
    "for category, importance_df in category_importance.items():\n",
    "    importance_dict = dict(zip(importance_df['特徴量'], importance_df['重要度']))\n",
    "    heatmap_data[category] = pd.Series(importance_dict)\n",
    "\n",
    "heatmap_data = heatmap_data.fillna(0).T\n",
    "\n",
    "# 重要度が高い特徴量順にソート\n",
    "feature_sum = heatmap_data.sum(axis=0).sort_values(ascending=False)\n",
    "top_features = feature_sum.head(30).index\n",
    "heatmap_plot = heatmap_data[top_features]\n",
    "\n",
    "# ヒートマップ描画\n",
    "fig, ax = plt.subplots(figsize=(16, 10))\n",
    "sns.heatmap(heatmap_plot, annot=False, cmap='YlOrRd', \n",
    "            cbar_kws={'label': '重要度'}, ax=ax)\n",
    "ax.set_title('カテゴリ×特徴量 重要度ヒートマップ（TOP30特徴量）', \n",
    "             fontproperties=JP_FP, fontsize=14, pad=20)\n",
    "ax.set_xlabel('特徴量', fontproperties=JP_FP, fontsize=12)\n",
    "ax.set_ylabel('カテゴリ', fontproperties=JP_FP, fontsize=12)\n",
    "plt.xticks(rotation=45, ha='right', fontproperties=JP_FP)\n",
    "plt.yticks(fontproperties=JP_FP)\n",
    "\n",
    "plt.tight_layout()\n",
    "plt.savefig('output/category_feature_importance_heatmap.png', dpi=300, bbox_inches='tight')\n",
    "plt.show()"
   ]
  },
  {
   "cell_type": "markdown",
   "metadata": {},
   "source": [
    "## 3️⃣ 相関分析"
   ]
  },
  {
   "cell_type": "code",
   "execution_count": null,
   "metadata": {},
   "outputs": [],
   "source": [
    "# 売上との相関係数を計算\n",
    "print(\"\\n🔗 相関分析実行中...\")\n",
    "\n",
    "correlations = []\n",
    "\n",
    "for col in feature_cols:\n",
    "    # 欠損値を除いてPearson相関を計算\n",
    "    valid_mask = df[col].notna() & df[target_col].notna()\n",
    "    \n",
    "    if valid_mask.sum() < 10:\n",
    "        continue\n",
    "    \n",
    "    corr, p_value = pearsonr(df.loc[valid_mask, col], df.loc[valid_mask, target_col])\n",
    "    \n",
    "    correlations.append({\n",
    "        '特徴量': col,\n",
    "        '相関係数': corr,\n",
    "        'p値': p_value,\n",
    "        '絶対相関': abs(corr)\n",
    "    })\n",
    "\n",
    "correlation_df = pd.DataFrame(correlations).sort_values('絶対相関', ascending=False)\n",
    "print(\"✅ 相関分析完了\")"
   ]
  },
  {
   "cell_type": "code",
   "execution_count": null,
   "metadata": {},
   "outputs": [],
   "source": [
    "# TOP30相関の表示\n",
    "print(\"\\n🔝 売上との相関TOP30:\")\n",
    "top30_corr = correlation_df.head(30).copy()\n",
    "top30_corr[['特徴量', '相関係数', 'p値']]"
   ]
  },
  {
   "cell_type": "code",
   "execution_count": null,
   "metadata": {},
   "outputs": [],
   "source": [
    "# 相関係数の可視化\n",
    "fig, ax = plt.subplots(figsize=(12, 10))\n",
    "\n",
    "top30_corr_plot = correlation_df.head(30).copy()\n",
    "colors = ['red' if x > 0 else 'blue' for x in top30_corr_plot['相関係数']]\n",
    "\n",
    "ax.barh(range(len(top30_corr_plot)), top30_corr_plot['相関係数'], \n",
    "        color=colors, alpha=0.7)\n",
    "ax.set_yticks(range(len(top30_corr_plot)))\n",
    "ax.set_yticklabels(top30_corr_plot['特徴量'], fontproperties=JP_FP, fontsize=10)\n",
    "ax.set_xlabel('相関係数', fontproperties=JP_FP, fontsize=12)\n",
    "ax.set_title(f'{target_col}との相関係数TOP30', fontproperties=JP_FP, fontsize=14, pad=20)\n",
    "ax.axvline(x=0, color='black', linestyle='--', linewidth=1)\n",
    "ax.invert_yaxis()\n",
    "ax.grid(axis='x', alpha=0.3)\n",
    "\n",
    "# 値ラベル\n",
    "for i, (_, row) in enumerate(top30_corr_plot.iterrows()):\n",
    "    value = row['相関係数']\n",
    "    x_pos = value + (0.02 if value > 0 else -0.02)\n",
    "    ha = 'left' if value > 0 else 'right'\n",
    "    ax.text(x_pos, i, f\"{value:.3f}\", va='center', ha=ha, \n",
    "            fontsize=8, fontproperties=JP_FP)\n",
    "\n",
    "plt.tight_layout()\n",
    "plt.savefig('output/correlation_top30.png', dpi=300, bbox_inches='tight')\n",
    "plt.show()"
   ]
  },
  {
   "cell_type": "markdown",
   "metadata": {},
   "source": [
    "## 4️⃣ 多重共線性チェック（VIF）"
   ]
  },
  {
   "cell_type": "code",
   "execution_count": null,
   "metadata": {},
   "outputs": [],
   "source": [
    "# VIF（分散拡大係数）を計算\n",
    "print(\"\\n📐 VIF（多重共線性）分析中...\")\n",
    "print(\"※ VIF > 10 の特徴量は多重共線性が高い\")\n",
    "\n",
    "# TOP50特徴量に絞る（計算時間削減のため）\n",
    "top50_features = feature_importance.head(50)['特徴量'].values\n",
    "X_vif = df[top50_features].fillna(df[top50_features].median())\n",
    "\n",
    "vif_data = []\n",
    "\n",
    "for i, col in enumerate(top50_features):\n",
    "    try:\n",
    "        vif = variance_inflation_factor(X_vif.values, i)\n",
    "        vif_data.append({'特徴量': col, 'VIF': vif})\n",
    "    except:\n",
    "        continue\n",
    "\n",
    "vif_df = pd.DataFrame(vif_data).sort_values('VIF', ascending=False)\n",
    "print(\"\\n✅ VIF計算完了\")"
   ]
  },
  {
   "cell_type": "code",
   "execution_count": null,
   "metadata": {},
   "outputs": [],
   "source": [
    "# VIF結果表示\n",
    "print(\"\\n⚠️ 多重共線性が高い特徴量（VIF > 10）:\")\n",
    "high_vif = vif_df[vif_df['VIF'] > 10]\n",
    "if len(high_vif) > 0:\n",
    "    high_vif\n",
    "else:\n",
    "    print(\"なし（すべてVIF < 10）\")"
   ]
  },
  {
   "cell_type": "code",
   "execution_count": null,
   "metadata": {},
   "outputs": [],
   "source": [
    "# VIF可視化\n",
    "fig, ax = plt.subplots(figsize=(12, 8))\n",
    "\n",
    "vif_plot = vif_df.head(30).copy()\n",
    "colors = ['red' if x > 10 else 'steelblue' for x in vif_plot['VIF']]\n",
    "\n",
    "ax.barh(range(len(vif_plot)), vif_plot['VIF'], color=colors, alpha=0.7)\n",
    "ax.set_yticks(range(len(vif_plot)))\n",
    "ax.set_yticklabels(vif_plot['特徴量'], fontproperties=JP_FP, fontsize=9)\n",
    "ax.set_xlabel('VIF（分散拡大係数）', fontproperties=JP_FP, fontsize=12)\n",
    "ax.set_title('多重共線性チェック（TOP30特徴量）', fontproperties=JP_FP, fontsize=14, pad=20)\n",
    "ax.axvline(x=10, color='red', linestyle='--', linewidth=2, label='VIF=10（基準）')\n",
    "ax.invert_yaxis()\n",
    "ax.grid(axis='x', alpha=0.3)\n",
    "ax.legend(prop=JP_FP)\n",
    "\n",
    "plt.tight_layout()\n",
    "plt.savefig('output/vif_multicollinearity.png', dpi=300, bbox_inches='tight')\n",
    "plt.show()"
   ]
  },
  {
   "cell_type": "markdown",
   "metadata": {},
   "source": [
    "## 5️⃣ 結果の保存と統合"
   ]
  },
  {
   "cell_type": "code",
   "execution_count": null,
   "metadata": {},
   "outputs": [],
   "source": "# 統合結果の作成\nprint(\"\\n💾 結果を統合中...\")\n\n# 全体重要度、相関、VIFを統合\ncomprehensive_analysis = feature_importance.copy()\ncomprehensive_analysis = comprehensive_analysis.merge(\n    correlation_df[['特徴量', '相関係数', 'p値', '絶対相関']], \n    on='特徴量', \n    how='left'\n)\ncomprehensive_analysis = comprehensive_analysis.merge(\n    vif_df[['特徴量', 'VIF']], \n    on='特徴量', \n    how='left'\n)\n\n# 絶対相関がNaNの場合は0で埋める\ncomprehensive_analysis['絶対相関'] = comprehensive_analysis['絶対相関'].fillna(0)\n\n# 総合スコアの計算（重要度と絶対相関の加重平均）\ncomprehensive_analysis['総合スコア'] = (\n    comprehensive_analysis['重要度'] * 0.6 + \n    comprehensive_analysis['絶対相関'] * 0.4\n)\n\ncomprehensive_analysis = comprehensive_analysis.sort_values('総合スコア', ascending=False)\n\nprint(\"✅ 統合完了\")"
  },
  {
   "cell_type": "code",
   "execution_count": null,
   "metadata": {},
   "outputs": [],
   "source": [
    "# 統合結果TOP50表示\n",
    "print(\"\\n🏆 総合評価TOP50特徴量:\")\n",
    "top50_comprehensive = comprehensive_analysis.head(50).copy()\n",
    "top50_comprehensive[['特徴量', '重要度', '相関係数', 'VIF', '総合スコア']]"
   ]
  },
  {
   "cell_type": "code",
   "execution_count": null,
   "metadata": {},
   "outputs": [],
   "source": [
    "# CSV保存\n",
    "comprehensive_analysis.to_csv('output/comprehensive_sales_factor_analysis.csv', \n",
    "                             index=False, encoding='utf-8-sig')\n",
    "print(\"\\n✅ 保存完了: output/comprehensive_sales_factor_analysis.csv\")\n",
    "\n",
    "# カテゴリ別TOP20も保存\n",
    "category_top20_all = []\n",
    "\n",
    "for category, importance_df in category_importance.items():\n",
    "    top20 = importance_df.head(20).copy()\n",
    "    top20['カテゴリ'] = category\n",
    "    category_top20_all.append(top20)\n",
    "\n",
    "category_top20_df = pd.concat(category_top20_all, ignore_index=True)\n",
    "category_top20_df.to_csv('output/category_feature_importance_top20.csv', \n",
    "                         index=False, encoding='utf-8-sig')\n",
    "print(\"✅ 保存完了: output/category_feature_importance_top20.csv\")"
   ]
  },
  {
   "cell_type": "markdown",
   "metadata": {},
   "source": [
    "## 📊 サマリーレポート"
   ]
  },
  {
   "cell_type": "code",
   "execution_count": null,
   "metadata": {},
   "outputs": [],
   "source": [
    "print(\"\\n\" + \"=\" * 80)\n",
    "print(\"📊 売上影響要因 分析サマリー\")\n",
    "print(\"=\" * 80)\n",
    "\n",
    "print(f\"\\n総特徴量数: {len(feature_cols)}\")\n",
    "print(f\"分析対象カテゴリ数: {len(category_importance)}\")\n",
    "\n",
    "print(\"\\n🏆 最重要特徴量TOP5（全体）:\")\n",
    "for i, (_, row) in enumerate(feature_importance.head(5).iterrows(), 1):\n",
    "    print(f\"  {i}. {row['特徴量']}: {row['重要度']:.4f}\")\n",
    "\n",
    "print(\"\\n🔗 売上との相関TOP5:\")\n",
    "for i, (_, row) in enumerate(correlation_df.head(5).iterrows(), 1):\n",
    "    print(f\"  {i}. {row['特徴量']}: {row['相関係数']:.3f}\")\n",
    "\n",
    "print(\"\\n⚠️ 多重共線性注意（VIF > 10）:\")\n",
    "high_vif_count = len(vif_df[vif_df['VIF'] > 10])\n",
    "if high_vif_count > 0:\n",
    "    print(f\"  {high_vif_count}個の特徴量で多重共線性あり\")\n",
    "    for _, row in vif_df[vif_df['VIF'] > 10].head(5).iterrows():\n",
    "        print(f\"    - {row['特徴量']}: VIF={row['VIF']:.2f}\")\n",
    "else:\n",
    "    print(\"  なし（すべてVIF < 10）\")\n",
    "\n",
    "print(\"\\n💡 推奨アクション:\")\n",
    "print(\"1. 総合スコアTOP20の特徴量を優先的に活用\")\n",
    "print(\"2. VIF > 10の特徴量は冗長性があるため、代表的な1つのみ使用\")\n",
    "print(\"3. カテゴリごとに重要特徴量が異なるため、カテゴリ別モデルを推奨\")\n",
    "print(\"4. 相関が高くても重要度が低い特徴量は、他の特徴量で代替可能\")\n",
    "\n",
    "print(\"\\n\" + \"=\" * 80)\n",
    "print(\"✅ 分析完了！\")\n",
    "print(\"=\" * 80)"
   ]
  }
 ],
 "metadata": {
  "kernelspec": {
   "display_name": "Python 3",
   "language": "python",
   "name": "python3"
  },
  "language_info": {
   "codemirror_mode": {
    "name": "ipython",
    "version": 3
   },
   "file_extension": ".py",
   "mimetype": "text/x-python",
   "name": "python",
   "nbconvert_exporter": "python",
   "pygments_lexer": "ipython3",
   "version": "3.11.0"
  }
 },
 "nbformat": 4,
 "nbformat_minor": 4
}