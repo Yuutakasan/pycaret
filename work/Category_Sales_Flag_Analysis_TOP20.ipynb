{
 "cells": [
  {
   "cell_type": "markdown",
   "metadata": {},
   "source": "# 📊 商品カテゴリごとの売上最大化分析: フラグ別売上比較 TOP100\n\n各カテゴリでフラグ（休日、天気など）がどのように売上に影響するかを分析します。"
  },
  {
   "cell_type": "code",
   "execution_count": null,
   "metadata": {},
   "outputs": [],
   "source": "# ライブラリインポート\nimport pandas as pd\nimport numpy as np\nimport matplotlib.pyplot as plt\nimport seaborn as sns\nfrom pathlib import Path\nimport warnings\nwarnings.filterwarnings('ignore')\n\n# 日本語フォント設定\nimport matplotlib.font_manager as fm\nJP_FONT_PATH = \"/usr/share/fonts/opentype/noto/NotoSansCJK-Regular.ttc\"\nif Path(JP_FONT_PATH).exists():\n    JP_FP = fm.FontProperties(fname=JP_FONT_PATH)\n    plt.rcParams['font.family'] = JP_FP.get_name()\nelse:\n    print(\"⚠️ 日本語フォントが見つかりません\")\n\nprint(\"=\" * 80)\nprint(\"📊 商品カテゴリごとの売上最大化分析: フラグ別売上比較 TOP100\")\nprint(\"=\" * 80)"
  },
  {
   "cell_type": "code",
   "execution_count": null,
   "metadata": {},
   "outputs": [],
   "source": [
    "# データ読み込み\n",
    "input_file = Path(\"output/06_final_enriched_20250701_20250930.csv\")\n",
    "print(f\"📁 データ読み込み中: {input_file}\")\n",
    "df = pd.read_csv(input_file)\n",
    "print(f\"✅ データ形状: {df.shape}\")\n",
    "print(f\"列: {list(df.columns[:10])}...\")"
   ]
  },
  {
   "cell_type": "code",
   "execution_count": null,
   "metadata": {},
   "outputs": [],
   "source": "# カテゴリ・商品・売上列の自動検出\ncategory_candidates = [col for col in df.columns if any(x in col for x in ['カテゴリ', 'category', '分類', 'フェイスくくり'])]\nsales_candidates = [col for col in df.columns if any(x in col for x in ['売上', '金額', 'sales', 'amt'])]\nqty_candidates = [col for col in df.columns if any(x in col for x in ['数量', 'qty', 'quantity', '個数'])]\n\n# カテゴリ列の優先順位: 大分類 > 中分類 > 小分類 > カテゴリ\nif 'フェイスくくり大分類' in df.columns:\n    category_col = 'フェイスくくり大分類'\nelif 'フェイスくくり中分類' in df.columns:\n    category_col = 'フェイスくくり中分類'\nelif 'フェイスくくり小分類' in df.columns:\n    category_col = 'フェイスくくり小分類'\nelif 'カテゴリ' in df.columns:\n    category_col = 'カテゴリ'\nelse:\n    category_col = category_candidates[0] if category_candidates else None\n\n# 売上列の検出（優先順位: 売上金額 > その他）\nif '売上金額' in df.columns:\n    sales_col = '売上金額'\nelif sales_candidates:\n    sales_col = sales_candidates[0]\nelse:\n    sales_col = None\n\n# 数量列の検出\nif '売上数量' in df.columns:\n    qty_col = '売上数量'\nelif qty_candidates:\n    qty_col = qty_candidates[0]\nelse:\n    qty_col = None\n\nprint(f\"✅ カテゴリ列: {category_col}\")\nprint(f\"✅ 売上列: {sales_col}\")\nprint(f\"✅ 数量列: {qty_col}\")\nprint(f\"\\nユニークカテゴリ数: {df[category_col].nunique() if category_col else 0}\")"
  },
  {
   "cell_type": "code",
   "execution_count": null,
   "metadata": {},
   "outputs": [],
   "source": [
    "# フラグ列の特定\n",
    "flag_cols = [col for col in df.columns if 'フラグ' in col and df[col].dtype in ['int64', 'float64', 'bool']]\n",
    "print(f\"🚩 フラグ列数: {len(flag_cols)}\")\n",
    "for flag in flag_cols:\n",
    "    print(f\"  - {flag}\")"
   ]
  },
  {
   "cell_type": "code",
   "execution_count": null,
   "metadata": {},
   "outputs": [],
   "source": [
    "# カテゴリごとのフラグ別売上影響を計算\n",
    "print(\"🔍 カテゴリごとのフラグ別売上影響を計算中...\")\n",
    "\n",
    "results = []\n",
    "\n",
    "for category in df[category_col].unique():\n",
    "    if pd.isna(category):\n",
    "        continue\n",
    "    \n",
    "    cat_data = df[df[category_col] == category].copy()\n",
    "    \n",
    "    if len(cat_data) < 10:\n",
    "        continue\n",
    "    \n",
    "    for flag_col in flag_cols:\n",
    "        flag_on_data = cat_data[cat_data[flag_col] == 1]\n",
    "        flag_off_data = cat_data[cat_data[flag_col] == 0]\n",
    "        \n",
    "        if len(flag_on_data) < 3 or len(flag_off_data) < 3:\n",
    "            continue\n",
    "        \n",
    "        flag_on_sales = flag_on_data[sales_col].mean()\n",
    "        flag_off_sales = flag_off_data[sales_col].mean()\n",
    "        sales_diff = flag_on_sales - flag_off_sales\n",
    "        impact_rate = (sales_diff / flag_off_sales * 100) if flag_off_sales > 0 else 0\n",
    "        \n",
    "        qty_impact = None\n",
    "        if qty_col:\n",
    "            flag_on_qty = flag_on_data[qty_col].mean()\n",
    "            flag_off_qty = flag_off_data[qty_col].mean()\n",
    "            qty_diff = flag_on_qty - flag_off_qty\n",
    "            qty_impact = (qty_diff / flag_off_qty * 100) if flag_off_qty > 0 else 0\n",
    "        \n",
    "        results.append({\n",
    "            'カテゴリ': category,\n",
    "            'フラグ': flag_col,\n",
    "            'フラグON時売上': flag_on_sales,\n",
    "            'フラグOFF時売上': flag_off_sales,\n",
    "            '売上差分': sales_diff,\n",
    "            '売上影響率(%)': impact_rate,\n",
    "            'フラグON日数': len(flag_on_data),\n",
    "            'フラグOFF日数': len(flag_off_data),\n",
    "            '数量影響率(%)': qty_impact,\n",
    "            '絶対影響額': abs(sales_diff)\n",
    "        })\n",
    "\n",
    "results_df = pd.DataFrame(results)\n",
    "print(f\"✅ 分析結果: {len(results_df)}行\")"
   ]
  },
  {
   "cell_type": "code",
   "execution_count": null,
   "metadata": {},
   "outputs": [],
   "source": "# TOP100の抽出\ntop100 = results_df.nlargest(100, '絶対影響額').copy()\nprint(\"\\n🏆 売上影響TOP100:\")\ndisplay(top100[['カテゴリ', 'フラグ', '売上影響率(%)', '売上差分', 'フラグON日数']].head(30))\nprint(f\"\\n... (全{len(top100)}件のTOP100データ)\")"
  },
  {
   "cell_type": "code",
   "execution_count": null,
   "metadata": {},
   "outputs": [],
   "source": "# 可視化1: プラス/マイナス影響TOP20ヒートマップ（変更なし）\nfig, axes = plt.subplots(2, 1, figsize=(16, 12))\n\n# プラス影響TOP20\ntop_positive = results_df.nlargest(20, '売上影響率(%)')\npivot_positive = top_positive.pivot_table(\n    index='カテゴリ',\n    columns='フラグ',\n    values='売上影響率(%)',\n    fill_value=0\n)\n\nsns.heatmap(pivot_positive, annot=True, fmt='.1f', cmap='Reds',\n            cbar_kws={'label': '売上影響率(%)'}, ax=axes[0])\naxes[0].set_title('売上プラス影響 TOP20カテゴリ×フラグ', fontproperties=JP_FP, fontsize=14, pad=20)\naxes[0].set_xlabel('フラグ', fontproperties=JP_FP)\naxes[0].set_ylabel('カテゴリ', fontproperties=JP_FP)\n\n# マイナス影響TOP20\ntop_negative = results_df.nsmallest(20, '売上影響率(%)')\npivot_negative = top_negative.pivot_table(\n    index='カテゴリ',\n    columns='フラグ',\n    values='売上影響率(%)',\n    fill_value=0\n)\n\nsns.heatmap(pivot_negative, annot=True, fmt='.1f', cmap='Blues_r',\n            cbar_kws={'label': '売上影響率(%)'}, ax=axes[1])\naxes[1].set_title('売上マイナス影響 TOP20カテゴリ×フラグ', fontproperties=JP_FP, fontsize=14, pad=20)\naxes[1].set_xlabel('フラグ', fontproperties=JP_FP)\naxes[1].set_ylabel('カテゴリ', fontproperties=JP_FP)\n\nplt.tight_layout()\nplt.savefig('output/category_flag_impact_heatmap_top20.png', dpi=300, bbox_inches='tight')\nplt.show()"
  },
  {
   "cell_type": "code",
   "execution_count": null,
   "metadata": {},
   "outputs": [],
   "source": "# 可視化2: TOP100バーチャート（上位50件と下位50件に分けて表示）\nprint(\"\\n📊 TOP100の可視化（上位50件 + 下位50件）\")\n\n# 上位50件\nfig, ax = plt.subplots(figsize=(14, 20))\n\ntop50_sorted = top100.nlargest(50, '売上差分').sort_values('売上差分', ascending=True)\ncolors = ['red' if x > 0 else 'blue' for x in top50_sorted['売上差分']]\n\ny_labels = [f\"{row['カテゴリ'][:20]}\\n({row['フラグ']})\"\n            for _, row in top50_sorted.iterrows()]\n\nax.barh(range(len(top50_sorted)), top50_sorted['売上差分'], color=colors, alpha=0.7)\nax.set_yticks(range(len(top50_sorted)))\nax.set_yticklabels(y_labels, fontproperties=JP_FP, fontsize=8)\nax.set_xlabel('売上差分（円）', fontproperties=JP_FP, fontsize=12)\nax.set_title('カテゴリ×フラグ別 売上影響TOP50（1位〜50位）', fontproperties=JP_FP, fontsize=14, pad=20)\nax.axvline(x=0, color='black', linestyle='--', linewidth=1)\nax.grid(axis='x', alpha=0.3)\n\n# 値ラベル追加\nfor i, (_, row) in enumerate(top50_sorted.iterrows()):\n    value = row['売上差分']\n    label = f\"¥{value:,.0f}\\n({row['売上影響率(%)']:.1f}%)\"\n    x_pos = value + (max(top50_sorted['売上差分']) * 0.02 if value > 0 else min(top50_sorted['売上差分']) * 0.02)\n    ax.text(x_pos, i, label, va='center', fontsize=7, fontproperties=JP_FP)\n\nplt.tight_layout()\nplt.savefig('output/category_flag_impact_top50_bar.png', dpi=300, bbox_inches='tight')\nplt.show()\n\n# 下位50件（51位〜100位）\nfig, ax = plt.subplots(figsize=(14, 20))\n\nbottom50_sorted = top100.nsmallest(50, '売上差分').sort_values('売上差分', ascending=True)\ncolors = ['red' if x > 0 else 'blue' for x in bottom50_sorted['売上差分']]\n\ny_labels = [f\"{row['カテゴリ'][:20]}\\n({row['フラグ']})\"\n            for _, row in bottom50_sorted.iterrows()]\n\nax.barh(range(len(bottom50_sorted)), bottom50_sorted['売上差分'], color=colors, alpha=0.7)\nax.set_yticks(range(len(bottom50_sorted)))\nax.set_yticklabels(y_labels, fontproperties=JP_FP, fontsize=8)\nax.set_xlabel('売上差分（円）', fontproperties=JP_FP, fontsize=12)\nax.set_title('カテゴリ×フラグ別 売上影響51位〜100位', fontproperties=JP_FP, fontsize=14, pad=20)\nax.axvline(x=0, color='black', linestyle='--', linewidth=1)\nax.grid(axis='x', alpha=0.3)\n\n# 値ラベル追加\nfor i, (_, row) in enumerate(bottom50_sorted.iterrows()):\n    value = row['売上差分']\n    label = f\"¥{value:,.0f}\\n({row['売上影響率(%)']:.1f}%)\"\n    x_pos = value + (max(bottom50_sorted['売上差分']) * 0.02 if value > 0 else min(bottom50_sorted['売上差分']) * 0.02)\n    ax.text(x_pos, i, label, va='center', fontsize=7, fontproperties=JP_FP)\n\nplt.tight_layout()\nplt.savefig('output/category_flag_impact_51to100_bar.png', dpi=300, bbox_inches='tight')\nplt.show()"
  },
  {
   "cell_type": "code",
   "execution_count": null,
   "metadata": {},
   "outputs": [],
   "source": [
    "# 可視化3: フラグ別影響分布\n",
    "fig, ax = plt.subplots(figsize=(14, 8))\n",
    "\n",
    "flag_summary = results_df.groupby('フラグ').agg({\n",
    "    '売上影響率(%)': ['mean', 'std', 'count'],\n",
    "    '売上差分': 'sum'\n",
    "}).round(2)\n",
    "\n",
    "flag_summary.columns = ['平均影響率(%)', '標準偏差', 'カテゴリ数', '総影響額']\n",
    "flag_summary = flag_summary.sort_values('平均影響率(%)', ascending=False)\n",
    "\n",
    "x = range(len(flag_summary))\n",
    "ax.bar(x, flag_summary['平均影響率(%)'], alpha=0.7, color='steelblue')\n",
    "ax.set_xticks(x)\n",
    "ax.set_xticklabels(flag_summary.index, rotation=45, ha='right', fontproperties=JP_FP)\n",
    "ax.set_ylabel('平均売上影響率(%)', fontproperties=JP_FP, fontsize=12)\n",
    "ax.set_title('フラグ別 平均売上影響率（全カテゴリ）', fontproperties=JP_FP, fontsize=14, pad=20)\n",
    "ax.axhline(y=0, color='red', linestyle='--', linewidth=1)\n",
    "ax.grid(axis='y', alpha=0.3)\n",
    "\n",
    "for i, (idx, row) in enumerate(flag_summary.iterrows()):\n",
    "    ax.text(i, row['平均影響率(%)'] + 0.5,\n",
    "            f\"{row['平均影響率(%)']:.1f}%\\n(n={int(row['カテゴリ数'])})\",\n",
    "            ha='center', va='bottom', fontsize=9, fontproperties=JP_FP)\n",
    "\n",
    "plt.tight_layout()\n",
    "plt.savefig('output/flag_impact_distribution.png', dpi=300, bbox_inches='tight')\n",
    "plt.show()"
   ]
  },
  {
   "cell_type": "code",
   "execution_count": null,
   "metadata": {},
   "outputs": [],
   "source": "# 結果保存\ntop100.to_csv('output/category_flag_analysis_top100.csv', index=False, encoding='utf-8-sig')\nresults_df.to_csv('output/category_flag_analysis_all.csv', index=False, encoding='utf-8-sig')\nprint(\"✅ 結果をCSV保存しました\")\nprint(f\"   - output/category_flag_analysis_top100.csv ({len(top100)}件)\")\nprint(f\"   - output/category_flag_analysis_all.csv ({len(results_df)}件)\")"
  },
  {
   "cell_type": "code",
   "execution_count": null,
   "metadata": {},
   "outputs": [],
   "source": [
    "# サマリーレポート\n",
    "print(\"\\n\" + \"=\" * 60)\n",
    "print(\"📊 分析サマリー\")\n",
    "print(\"=\" * 60)\n",
    "\n",
    "print(f\"\\n総カテゴリ数: {df[category_col].nunique()}\")\n",
    "print(f\"分析対象フラグ数: {len(flag_cols)}\")\n",
    "print(f\"分析結果総数: {len(results_df)}行\")\n",
    "\n",
    "print(\"\\n🏆 最大プラス影響:\")\n",
    "max_positive = results_df.loc[results_df['売上影響率(%)'].idxmax()]\n",
    "print(f\"  カテゴリ: {max_positive['カテゴリ']}\")\n",
    "print(f\"  フラグ: {max_positive['フラグ']}\")\n",
    "print(f\"  影響率: +{max_positive['売上影響率(%)']:.1f}%\")\n",
    "print(f\"  売上差分: ¥{max_positive['売上差分']:,.0f}\")\n",
    "\n",
    "print(\"\\n📉 最大マイナス影響:\")\n",
    "max_negative = results_df.loc[results_df['売上影響率(%)'].idxmin()]\n",
    "print(f\"  カテゴリ: {max_negative['カテゴリ']}\")\n",
    "print(f\"  フラグ: {max_negative['フラグ']}\")\n",
    "print(f\"  影響率: {max_negative['売上影響率(%)']:.1f}%\")\n",
    "print(f\"  売上差分: ¥{max_negative['売上差分']:,.0f}\")\n",
    "\n",
    "print(\"\\n💡 推奨アクション:\")\n",
    "print(\"1. プラス影響の大きいカテゴリ×フラグの組み合わせで販促強化\")\n",
    "print(\"2. マイナス影響の大きい組み合わせで在庫調整・仕入れ最適化\")\n",
    "print(\"3. フラグON日数が少ない組み合わせはデータ蓄積が必要\")"
   ]
  }
 ],
 "metadata": {
  "kernelspec": {
   "display_name": "Python 3",
   "language": "python",
   "name": "python3"
  },
  "language_info": {
   "codemirror_mode": {
    "name": "ipython",
    "version": 3
   },
   "file_extension": ".py",
   "mimetype": "text/x-python",
   "name": "python",
   "nbconvert_exporter": "python",
   "pygments_lexer": "ipython3",
   "version": "3.11.0"
  }
 },
 "nbformat": 4,
 "nbformat_minor": 4
}